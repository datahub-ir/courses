{
 "cells": [
  {
   "cell_type": "markdown",
   "metadata": {},
   "source": [
    "<!DOCTYPE html>\n",
    "<html>\n",
    "<body>\n",
    "<div align=\"center\">\n",
    "    \n",
    "<h1>Data Visualization With Seaborn</h1>\n",
    "</div>\n",
    "</body>\n",
    "</html>"
   ]
  },
  {
   "cell_type": "code",
   "execution_count": null,
   "metadata": {},
   "outputs": [],
   "source": [
    "# !pip install seaborn"
   ]
  },
  {
   "cell_type": "code",
   "execution_count": null,
   "metadata": {},
   "outputs": [],
   "source": [
    "import matplotlib.pyplot as plt\n",
    "import matplotlib as mpl\n",
    "import numpy as np\n",
    "import pandas as pd\n",
    "import seaborn as sns"
   ]
  },
  {
   "cell_type": "markdown",
   "metadata": {},
   "source": [
    "## Loading Datasets"
   ]
  },
  {
   "cell_type": "code",
   "execution_count": null,
   "metadata": {},
   "outputs": [],
   "source": [
    "pokemon = pd.read_csv(\"Datasets/pokemon_updated.csv\")\n",
    "pokemon.head()"
   ]
  },
  {
   "cell_type": "code",
   "execution_count": null,
   "metadata": {},
   "outputs": [],
   "source": [
    "stdperf = pd.read_csv(\"Datasets/studentp.csv\")\n",
    "stdperf.head()"
   ]
  },
  {
   "cell_type": "code",
   "execution_count": null,
   "metadata": {},
   "outputs": [],
   "source": [
    "corona = pd.read_csv('Datasets/countries-aggregated.csv',\n",
    "                     index_col='Date', parse_dates=True)\n",
    "corona.head()"
   ]
  },
  {
   "cell_type": "code",
   "execution_count": null,
   "metadata": {},
   "outputs": [],
   "source": [
    "spotify = pd.read_csv(\"Datasets/spotify.csv\" , index_col=\"Date\")\n",
    "spotify.tail()"
   ]
  },
  {
   "cell_type": "code",
   "execution_count": null,
   "metadata": {},
   "outputs": [],
   "source": [
    "housing = pd.read_csv('Datasets/housing.csv')\n",
    "housing.tail()"
   ]
  },
  {
   "cell_type": "code",
   "execution_count": null,
   "metadata": {},
   "outputs": [],
   "source": [
    "insurance = pd.read_csv('Datasets/insurance.csv')\n",
    "insurance.head()"
   ]
  },
  {
   "cell_type": "code",
   "execution_count": null,
   "metadata": {},
   "outputs": [],
   "source": [
    "employment = pd.read_excel(\"Datasets/unemployment.xlsx\")\n",
    "employment.head()"
   ]
  },
  {
   "cell_type": "code",
   "execution_count": null,
   "metadata": {},
   "outputs": [],
   "source": [
    "helpdesk = pd.read_csv(\"Datasets/helpdesk.csv\")\n",
    "helpdesk.head()"
   ]
  },
  {
   "cell_type": "code",
   "execution_count": null,
   "metadata": {},
   "outputs": [],
   "source": [
    "fish= pd.read_csv(\"Datasets/Fish.csv\")\n",
    "fish.head()"
   ]
  },
  {
   "cell_type": "code",
   "execution_count": null,
   "metadata": {},
   "outputs": [],
   "source": [
    "exercise = pd.read_csv(\"Datasets/exercise.csv\")\n",
    "exercise.head()"
   ]
  },
  {
   "cell_type": "code",
   "execution_count": null,
   "metadata": {},
   "outputs": [],
   "source": [
    "suicide = pd.read_csv(\"Datasets/suicide.csv\") \n",
    "suicide.head()"
   ]
  },
  {
   "cell_type": "code",
   "execution_count": null,
   "metadata": {},
   "outputs": [],
   "source": [
    "canada = pd.read_csv(\"Datasets/canada.csv\")\n",
    "canada.head()"
   ]
  },
  {
   "cell_type": "code",
   "execution_count": null,
   "metadata": {},
   "outputs": [],
   "source": [
    "canada.columns"
   ]
  },
  {
   "cell_type": "code",
   "execution_count": null,
   "metadata": {},
   "outputs": [],
   "source": [
    "canada.drop(columns=['AREA' , 'DEV', 'DevName' , 'REG', 'Type', 'Coverage' , 'AreaName', 'RegName' ], inplace=True)\n",
    "canada.head()"
   ]
  },
  {
   "cell_type": "code",
   "execution_count": null,
   "metadata": {},
   "outputs": [],
   "source": [
    "canada.rename(columns={'OdName':'Country'}, inplace=True)\n",
    "canada.set_index(canada.Country, inplace=True)\n",
    "canada.head()"
   ]
  },
  {
   "cell_type": "code",
   "execution_count": null,
   "metadata": {},
   "outputs": [],
   "source": [
    "canada.index.name=None\n",
    "canada.head()"
   ]
  },
  {
   "cell_type": "code",
   "execution_count": null,
   "metadata": {},
   "outputs": [],
   "source": [
    "del canada['Country']\n",
    "canada.head()"
   ]
  },
  {
   "cell_type": "code",
   "execution_count": null,
   "metadata": {},
   "outputs": [],
   "source": [
    "canada = canada.transpose()"
   ]
  },
  {
   "cell_type": "code",
   "execution_count": null,
   "metadata": {},
   "outputs": [],
   "source": [
    "canada.head()"
   ]
  },
  {
   "cell_type": "code",
   "execution_count": null,
   "metadata": {},
   "outputs": [],
   "source": [
    "led = pd.read_csv(\"Datasets/Life Expectancy Data.csv\")\n",
    "led.head()"
   ]
  },
  {
   "cell_type": "code",
   "execution_count": null,
   "metadata": {},
   "outputs": [],
   "source": [
    "adult = pd.read_csv(\"Datasets/adult.csv\")\n",
    "adult.head()"
   ]
  },
  {
   "cell_type": "code",
   "execution_count": null,
   "metadata": {},
   "outputs": [],
   "source": [
    "adult = adult[adult[\"workclass\"].isin(['Private', 'State-gov', 'Federal-gov'])]\n",
    "adult.head()"
   ]
  },
  {
   "cell_type": "code",
   "execution_count": null,
   "metadata": {},
   "outputs": [],
   "source": [
    "adult.reset_index(drop=True, inplace=True)\n",
    "adult.head()"
   ]
  },
  {
   "cell_type": "code",
   "execution_count": null,
   "metadata": {},
   "outputs": [],
   "source": [
    "iris = sns.load_dataset(\"iris\")\n",
    "iris.head()"
   ]
  },
  {
   "cell_type": "code",
   "execution_count": null,
   "metadata": {},
   "outputs": [],
   "source": [
    "cars = pd.read_csv(\"Datasets/cars.csv\")\n",
    "cars.head()"
   ]
  },
  {
   "cell_type": "markdown",
   "metadata": {},
   "source": [
    "# Line Charts"
   ]
  },
  {
   "cell_type": "code",
   "execution_count": null,
   "metadata": {},
   "outputs": [],
   "source": [
    "col1 = np.linspace(0, 10, 1000)\n",
    "col2 = np.sin(col1)"
   ]
  },
  {
   "cell_type": "code",
   "execution_count": null,
   "metadata": {},
   "outputs": [],
   "source": [
    "df = pd.DataFrame({\"C1\":col1, \"C2\":col2})\n",
    "df.head()"
   ]
  },
  {
   "cell_type": "code",
   "execution_count": null,
   "metadata": {},
   "outputs": [],
   "source": [
    "# Plotting lineplot using sns.lineplot()\n",
    "plt.style.use('seaborn-darkgrid')\n",
    "%matplotlib inline"
   ]
  },
  {
   "cell_type": "code",
   "execution_count": null,
   "metadata": {},
   "outputs": [],
   "source": [
    "sns.lineplot(x=df.C1, y=df.C2, data=df)\n",
    "plt.show()"
   ]
  },
  {
   "cell_type": "code",
   "execution_count": null,
   "metadata": {},
   "outputs": [],
   "source": [
    "\"\"\"  - Adjusting background color using axes.facecolor\n",
    "     - Changing label size using xtick.labelsize , ytick.labelsize \"\"\"\n",
    "\n",
    "plt.figure(figsize=(14, 6))#Width, height\n",
    "\n",
    "sns.set(rc={\"axes.facecolor\":\"yellow\",\n",
    "            \"axes.grid\":True,\n",
    "            'axes.labelsize':20,#name of axes\n",
    "            'xtick.labelsize':28,#font size of value of x-axis\n",
    "            'ytick.labelsize':14})\n",
    "\n",
    "sns.lineplot(x=df.C1, y=df.C2, data=df, linewidth = 2)\n",
    "sns.lineplot(x=df.C1, y=df.C2+1, data=df, linewidth = 2)\n",
    "plt.show()"
   ]
  },
  {
   "cell_type": "code",
   "execution_count": null,
   "metadata": {},
   "outputs": [],
   "source": [
    "\"\"\"  - Adjusting background color using axes.facecolor\n",
    "     - Changing label size using xtick.labelsize , ytick.labelsize \"\"\"\n",
    "\n",
    "plt.figure(figsize=(14, 6))\n",
    "\n",
    "sns.set(rc={\"axes.facecolor\":\"#283747\",\n",
    "            \"axes.grid\":False,\n",
    "            'xtick.labelsize':14,\n",
    "            'ytick.labelsize':14})\n",
    "\n",
    "sns.lineplot(x=df.C1, y=df.C2, data=df, color=\"#FF5722\", linewidth=2)\n",
    "sns.lineplot(x=df.C1, y=np.cos(df.C1), data=df,\n",
    "             color=\"#FFEB3B\", linewidth=2)\n",
    "plt.show()"
   ]
  },
  {
   "cell_type": "code",
   "execution_count": null,
   "metadata": {},
   "outputs": [],
   "source": [
    "# Recover default matplotlib settings\n",
    "mpl.rcParams.update(mpl.rcParamsDefault)\n",
    "%matplotlib inline"
   ]
  },
  {
   "cell_type": "code",
   "execution_count": null,
   "metadata": {},
   "outputs": [],
   "source": [
    "import warnings\n",
    "warnings.filterwarnings(\"ignore\")"
   ]
  },
  {
   "cell_type": "code",
   "execution_count": null,
   "metadata": {},
   "outputs": [],
   "source": [
    "spotify.tail()"
   ]
  },
  {
   "cell_type": "code",
   "execution_count": null,
   "metadata": {},
   "outputs": [],
   "source": [
    "plt.figure(figsize=(20, 8))\n",
    "sns.lineplot(data=spotify)\n",
    "plt.show()"
   ]
  },
  {
   "cell_type": "markdown",
   "metadata": {},
   "source": [
    "Look at the X-Asis. It is clealy not able to interpret the Index as Date. So the next step will be to convert the Index to Datetime."
   ]
  },
  {
   "cell_type": "code",
   "execution_count": null,
   "metadata": {},
   "outputs": [],
   "source": [
    "spotify.index = pd.to_datetime(spotify.index) # Converting datatype of index to Datetime"
   ]
  },
  {
   "cell_type": "code",
   "execution_count": null,
   "metadata": {},
   "outputs": [],
   "source": [
    "plt.figure(figsize=(20, 8))\n",
    "\n",
    "sns.lineplot(data=spotify, linewidth=2)\n",
    "plt.title(\"Daily Global Streams\")\n",
    "plt.show()"
   ]
  },
  {
   "cell_type": "code",
   "execution_count": null,
   "metadata": {},
   "outputs": [],
   "source": [
    "# Using Matplotlib for same visualization\n",
    "plt.figure(figsize=(20, 8))\n",
    "\n",
    "plt.plot(spotify['Despacito'], label=\"Despacito\")\n",
    "plt.plot(spotify['Shape of You'], label=\"Shape of You\")\n",
    "plt.plot(spotify['Something Just Like This'], label=\"Something Just Like This\")\n",
    "plt.plot(spotify['HUMBLE.'], label=\"Humble\")\n",
    "plt.plot(spotify['Unforgettable'], label=\"Unforgettable\")\n",
    "plt.legend()\n",
    "plt.show()"
   ]
  },
  {
   "cell_type": "markdown",
   "metadata": {},
   "source": [
    "So we can see using Seabon we can save many lines of code."
   ]
  },
  {
   "cell_type": "code",
   "execution_count": null,
   "metadata": {},
   "outputs": [],
   "source": [
    "plt.figure(figsize=(20, 6))\n",
    "\n",
    "sns.lineplot(data=spotify['Despacito'], \n",
    "             linewidth = 1.5,\n",
    "             label = 'Despacito')\n",
    "sns.lineplot(data=spotify['HUMBLE.'],\n",
    "             linewidth = 1.5, \n",
    "             label = 'Humble')\n",
    "plt.show()"
   ]
  },
  {
   "cell_type": "code",
   "execution_count": null,
   "metadata": {},
   "outputs": [],
   "source": [
    "canada.head()"
   ]
  },
  {
   "cell_type": "code",
   "execution_count": null,
   "metadata": {},
   "outputs": [],
   "source": [
    "# Plotting multiple sets of data (E.g Immigration data of multiple countries in one plot)\n",
    "plt.figure(figsize=(16, 6))\n",
    "\n",
    "sns.set(rc={\"axes.facecolor\":\"#283747\",\n",
    "            \"axes.grid\":False,\n",
    "            'xtick.labelsize':10,\n",
    "            'ytick.labelsize':10})\n",
    "\n",
    "plt.title(\"Immigrants from India , Pakistan & Bangladesh\", fontsize=14)\n",
    "\n",
    "plt.xticks(rotation=45)\n",
    "\n",
    "sns.lineplot(x=canada.index.values, y=canada['India'],\n",
    "             color='#ff9900', label='India')\n",
    "sns.lineplot(x=canada.index.values, y=canada['Pakistan'],\n",
    "             color='#4586ff', label='Pakistan')\n",
    "sns.lineplot(x=canada.index.values, y=canada['Bangladesh'], \n",
    "             color='#a2ef44', label='Bangladesh')\n",
    "\n",
    "plt.legend(facecolor='grey', fontsize='large',\n",
    "           edgecolor='black', shadow=True)\n",
    "plt.show()"
   ]
  },
  {
   "cell_type": "code",
   "execution_count": null,
   "metadata": {},
   "outputs": [],
   "source": [
    "plt.figure(figsize=(16, 6))\n",
    "\n",
    "plt.title(\"Immigrants from India\", fontsize=14)\n",
    "\n",
    "sns.set(rc={\"axes.facecolor\":\"#283747\",\n",
    "            \"axes.grid\":False,\n",
    "            'xtick.labelsize':10,\n",
    "            'ytick.labelsize':10})\n",
    "\n",
    "plt.xticks(rotation=45)\n",
    "sns.lineplot(x=canada.index.values, y=canada['India'])\n",
    "plt.show()"
   ]
  },
  {
   "cell_type": "code",
   "execution_count": null,
   "metadata": {},
   "outputs": [],
   "source": [
    "# Plotting multiple sets of data using for loop (E.g Immigration data of multiple countries in one plot)\n",
    "plt.figure(figsize=(16, 6))\n",
    "plt.title(\"Immigrants\", fontsize=16)\n",
    "\n",
    "for i in canada.columns:\n",
    "    if canada[i].name != 'Total' and canada[i].name != 'Unknown':\n",
    "        x=canada.index.values\n",
    "        y=canada[i]\n",
    "        sns.lineplot(x, y)\n",
    "        \n",
    "plt.xlabel('Year')\n",
    "plt.ylabel('Country')\n",
    "plt.show()"
   ]
  },
  {
   "cell_type": "code",
   "execution_count": null,
   "metadata": {},
   "outputs": [],
   "source": [
    "# Recover default matplotlib settings\n",
    "mpl.rcParams.update(mpl.rcParamsDefault)\n",
    "%matplotlib inline"
   ]
  },
  {
   "cell_type": "code",
   "execution_count": null,
   "metadata": {},
   "outputs": [],
   "source": [
    "employment.head()"
   ]
  },
  {
   "cell_type": "code",
   "execution_count": null,
   "metadata": {},
   "outputs": [],
   "source": [
    "# Show groups with different colors using \"hue\"\n",
    "plt.figure(figsize=(14, 7))\n",
    "plt.style.use('seaborn-darkgrid')\n",
    "\n",
    "sns.lineplot(x=\"Period\", y=\"Unemployed\", hue=\"Gender\", data=employment)\n",
    "plt.show()\n",
    "\n",
    "#The plot aggregates over multiple y values at each value of x and shows an estimate of \n",
    "#the central tendency and a confidence interval for that estimate."
   ]
  },
  {
   "cell_type": "code",
   "execution_count": null,
   "metadata": {},
   "outputs": [],
   "source": [
    "# Color and line dashing to represent 2 different grouping variables using \"hue\" & \"style\"\n",
    "plt.figure(figsize=(16, 9))\n",
    "\n",
    "plt.gcf().text(.2, .84, \"Line Plot\", fontsize=40, color='Black')\n",
    "sns.lineplot(x=\"Period\", y=\"Unemployed\", hue=\"Age\",\n",
    "             style=\"Gender\", data=employment)\n",
    "\n",
    "plt.show()"
   ]
  },
  {
   "cell_type": "code",
   "execution_count": null,
   "metadata": {},
   "outputs": [],
   "source": [
    "# Combining lineplots using relplot\n",
    "plt.figure(figsize=(10, 10))\n",
    "\n",
    "sns.set(rc={'xtick.labelsize':17,\n",
    "            'ytick.labelsize':17,\n",
    "            'axes.labelsize':20,\n",
    "            \"axes.grid\":False})\n",
    "\n",
    "sns.relplot(x=\"Period\", y=\"Unemployed\", hue=\"Age\", col=\"Gender\",\n",
    "            kind='line', height=8.5, aspect=1, data=employment)\n",
    "#Aspect ratio of each facet, so that ``aspect * height`` gives the width of each facet in inches.\n",
    "plt.show()"
   ]
  },
  {
   "cell_type": "code",
   "execution_count": null,
   "metadata": {},
   "outputs": [],
   "source": [
    "corona.head()"
   ]
  },
  {
   "cell_type": "code",
   "execution_count": null,
   "metadata": {},
   "outputs": [],
   "source": [
    "plt.figure(figsize=(20, 6))\n",
    "\n",
    "sns.lineplot(data=corona[corona['Country']=='Italy']['Confirmed'],\n",
    "             label = \"Confirmed\")\n",
    "sns.lineplot(data=corona[corona['Country']=='Italy']['Deaths'] ,\n",
    "             label = \"Deaths\")\n",
    "sns.lineplot(data=corona[corona['Country']=='Italy']['Recovered'],\n",
    "             label = \"Recovered\")\n",
    "plt.title(\"Total Confirmed Cases / Deaths / Recovered in Italy\")\n",
    "plt.show()"
   ]
  },
  {
   "cell_type": "markdown",
   "metadata": {},
   "source": [
    "### Plot Styling"
   ]
  },
  {
   "cell_type": "code",
   "execution_count": null,
   "metadata": {},
   "outputs": [],
   "source": [
    "# Enabling whitegrid style\n",
    "sns.set_style(\"whitegrid\")\n",
    "plt.figure(figsize=(20, 6))\n",
    "\n",
    "sns.lineplot(data=corona[corona['Country'] == 'Italy']['Confirmed'],\n",
    "             label = \"Confirmed\")\n",
    "sns.lineplot(data=corona[corona['Country'] == 'Italy']['Deaths'],\n",
    "             label = \"Deaths\")\n",
    "sns.lineplot(data=corona[corona['Country'] == 'Italy']['Recovered'],\n",
    "             label = \"Recovered\")\n",
    "\n",
    "plt.title(\"Total Confirmed Cases / Deaths / Recovered in Italy\")\n",
    "plt.show()"
   ]
  },
  {
   "cell_type": "markdown",
   "metadata": {},
   "source": [
    "There will be horizontal grid lines in the background for \"darkgrid\" style. Also we will see a dark Background."
   ]
  },
  {
   "cell_type": "code",
   "execution_count": null,
   "metadata": {},
   "outputs": [],
   "source": [
    "# Ticks Style\n",
    "sns.set_style(\"ticks\")\n",
    "plt.figure(figsize=(20, 6))\n",
    "\n",
    "sns.lineplot(data=corona[corona['Country'] == 'Italy']['Confirmed'], \n",
    "             label = \"Confirmed\")\n",
    "sns.lineplot(data=corona[corona['Country'] == 'Italy']['Deaths'], \n",
    "             label = \"Deaths\")\n",
    "sns.lineplot(data=corona[corona['Country'] == 'Italy']['Recovered'], \n",
    "             label = \"Recovered\")\n",
    "\n",
    "plt.title(\"Total Confirmed Cases / Deaths / Recovered in Italy\")\n",
    "plt.show()"
   ]
  },
  {
   "cell_type": "markdown",
   "metadata": {},
   "source": [
    "There will be no horizontal grid lines in the background for \"ticks\" style. We will only see ticks in $X$ & $Y$ axis"
   ]
  },
  {
   "cell_type": "markdown",
   "metadata": {},
   "source": [
    "# Satter Plots"
   ]
  },
  {
   "cell_type": "code",
   "execution_count": null,
   "metadata": {},
   "outputs": [],
   "source": [
    "# Recover default matplotlib settings\n",
    "mpl.rcParams.update(mpl.rcParamsDefault)\n",
    "%matplotlib inline"
   ]
  },
  {
   "cell_type": "code",
   "execution_count": null,
   "metadata": {},
   "outputs": [],
   "source": [
    "insurance.head()"
   ]
  },
  {
   "cell_type": "code",
   "execution_count": null,
   "metadata": {},
   "outputs": [],
   "source": [
    "plt.figure(figsize=(7, 7))\n",
    "sns.scatterplot(x=insurance.bmi, y=insurance.charges)\n",
    "plt.show()"
   ]
  },
  {
   "cell_type": "code",
   "execution_count": null,
   "metadata": {},
   "outputs": [],
   "source": [
    "#Changing the color of data points using \"color\" parameter\n",
    "plt.figure(figsize=(7, 7))\n",
    "sns.scatterplot(x=insurance.bmi, y=insurance.charges, color='#91bd3a')\n",
    "plt.show()"
   ]
  },
  {
   "cell_type": "code",
   "execution_count": null,
   "metadata": {},
   "outputs": [],
   "source": [
    "#Changing the shape of data points using \"marker\" parameter\n",
    "plt.figure(figsize=(8, 8))\n",
    "sns.scatterplot(x=insurance.bmi, y=insurance.charges,\n",
    "                color='#339900', marker = \">\")\n",
    "plt.show()"
   ]
  },
  {
   "cell_type": "code",
   "execution_count": null,
   "metadata": {},
   "outputs": [],
   "source": [
    "# Show groups with different colors using \"hue\"\n",
    "plt.figure(figsize=(7, 7))\n",
    "sns.scatterplot(x=insurance.bmi, \n",
    "                y=insurance.charges,\n",
    "                hue=insurance.sex)\n",
    "plt.show()"
   ]
  },
  {
   "cell_type": "code",
   "execution_count": null,
   "metadata": {},
   "outputs": [],
   "source": [
    "# Show groups with different colors using \"hue\"\n",
    "plt.figure(figsize=(7, 7))\n",
    "sns.scatterplot(x=insurance.bmi,\n",
    "                y=insurance.charges,\n",
    "                hue=insurance.smoker)\n",
    "plt.show()"
   ]
  },
  {
   "cell_type": "code",
   "execution_count": null,
   "metadata": {},
   "outputs": [],
   "source": [
    "#Setting X limit using \"plt.xlim\"\n",
    "plt.figure(figsize=(7, 7))\n",
    "plt.xlim([0, 55])\n",
    "\n",
    "sns.scatterplot(x=insurance.bmi,\n",
    "                y=insurance.charges,\n",
    "                hue=insurance.smoker)\n",
    "\n",
    "plt.show()"
   ]
  },
  {
   "cell_type": "code",
   "execution_count": null,
   "metadata": {},
   "outputs": [],
   "source": [
    "# Showing two different grouping variables using \"hue\" amd \"style\" parameter\n",
    "plt.figure(figsize=(10, 10))\n",
    "plt.gcf().text(.5, .9, \"Scatter Plot\", fontsize = 40,\n",
    "               color='Black', ha='center', va='center')\n",
    "\n",
    "sns.scatterplot(x=insurance.bmi, \n",
    "                y=insurance.charges, \n",
    "                hue=insurance.smoker,\n",
    "                style=insurance.sex)\n",
    "\n",
    "plt.show()"
   ]
  },
  {
   "cell_type": "code",
   "execution_count": null,
   "metadata": {},
   "outputs": [],
   "source": [
    "stdperf.head()"
   ]
  },
  {
   "cell_type": "code",
   "execution_count": null,
   "metadata": {},
   "outputs": [],
   "source": [
    "plt.figure(figsize=(9, 6))\n",
    "\n",
    "sns.scatterplot(x=stdperf['reading score'], \n",
    "                y=stdperf['writing score'],\n",
    "                hue=stdperf['test preparation course'],\n",
    "                size=stdperf['math score'], \n",
    "                sizes=(1, 200))\n",
    "\n",
    "plt.show()"
   ]
  },
  {
   "cell_type": "code",
   "execution_count": null,
   "metadata": {},
   "outputs": [],
   "source": [
    "pokemon.head()"
   ]
  },
  {
   "cell_type": "code",
   "execution_count": null,
   "metadata": {},
   "outputs": [],
   "source": [
    "# Varying the size of the points for a quantitative variable using \"size\" parameter\n",
    "plt.figure(figsize=(9, 9))\n",
    "\n",
    "sns.scatterplot(x=pokemon['Speed'],\n",
    "                y=pokemon['Attack'],\n",
    "                hue=pokemon['Legendary'], \n",
    "                size=pokemon['Sp. Atk'],\n",
    "                sizes=(1, 200))\n",
    "\n",
    "plt.show()"
   ]
  },
  {
   "cell_type": "markdown",
   "metadata": {},
   "source": [
    "# Relplot"
   ]
  },
  {
   "cell_type": "markdown",
   "metadata": {},
   "source": [
    "Relplot provides access to several different axes-level functions like line & scatter\n",
    "\n",
    "Why use relplot() instead of scatterplot() ?\n",
    "\n",
    "Because relplot() lets you create subplots in a single feature.\n",
    "\n",
    "Subplots in Columns and Rows"
   ]
  },
  {
   "cell_type": "code",
   "execution_count": null,
   "metadata": {},
   "outputs": [],
   "source": [
    "sns.set_style(\"white\") "
   ]
  },
  {
   "cell_type": "code",
   "execution_count": null,
   "metadata": {},
   "outputs": [],
   "source": [
    "employment.head()"
   ]
  },
  {
   "cell_type": "code",
   "execution_count": null,
   "metadata": {},
   "outputs": [],
   "source": [
    "# Drawing scatter plot using relplot\n",
    "plt.figure(figsize=(14, 16))\n",
    "\n",
    "sns.relplot(x=\"Period\", \n",
    "            y=\"Unemployed\",\n",
    "            hue=\"Gender\",\n",
    "            data=employment,\n",
    "            height=7, \n",
    "            aspect=2)\n",
    "plt.show()"
   ]
  },
  {
   "cell_type": "code",
   "execution_count": null,
   "metadata": {},
   "outputs": [],
   "source": [
    "# Drawing scatter plot using relplot\n",
    "plt.figure(figsize=(14, 16))\n",
    "\n",
    "sns.relplot(x=\"bmi\", \n",
    "            y=\"charges\",\n",
    "            hue=\"smoker\",\n",
    "            data=insurance,\n",
    "            height=8,\n",
    "            aspect=1)\n",
    "\n",
    "plt.show()"
   ]
  },
  {
   "cell_type": "code",
   "execution_count": null,
   "metadata": {},
   "outputs": [],
   "source": [
    "# Use \"Pallete\" to specify the colors to be used for different levels of the hue\n",
    "sns.set(rc={'xtick.labelsize':12,\n",
    "            'ytick.labelsize':12,\n",
    "            'axes.labelsize':12,\n",
    "            \"axes.grid\":False})\n",
    "\n",
    "sns.relplot(x=\"bmi\", y=\"charges\", hue=\"smoker\", data=insurance,\n",
    "            height=8, aspect=1, \n",
    "            palette=[\"#FF3333\", \"#00CC00\"])\n",
    "plt.show()"
   ]
  },
  {
   "cell_type": "code",
   "execution_count": null,
   "metadata": {},
   "outputs": [],
   "source": [
    "# Facet along the columns to show a categorical variable using \"col\" parameter\n",
    "plt.figure(figsize=(10, 10))\n",
    "sns.set(rc={'xtick.labelsize':12,\n",
    "            'ytick.labelsize':10,\n",
    "            'axes.labelsize':10,\n",
    "            \"axes.grid\":False})\n",
    "\n",
    "sns.relplot(x=\"Period\",\n",
    "            y=\"Unemployed\",\n",
    "            hue=\"Gender\",\n",
    "            col=\"Age\",\n",
    "            kind='line',\n",
    "            height=5, \n",
    "            aspect=.5,\n",
    "            data=employment)\n",
    "plt.show()"
   ]
  },
  {
   "cell_type": "code",
   "execution_count": null,
   "metadata": {},
   "outputs": [],
   "source": [
    "# Facet along the columns to show a categorical variable using \"col\" parameter\n",
    "sns.set(rc={'xtick.labelsize':16,\n",
    "            'ytick.labelsize':16,\n",
    "            'axes.labelsize':16,\n",
    "            \"axes.grid\":False})\n",
    "\n",
    "sns.relplot(x=\"Period\",\n",
    "            y=\"Unemployed\",\n",
    "            hue=\"Gender\", \n",
    "            col=\"Age\",\n",
    "            kind='line', \n",
    "            height=6, \n",
    "            aspect=1,\n",
    "            data=employment, \n",
    "            col_wrap=4,\n",
    "            linewidth=2)\n",
    "plt.show()"
   ]
  },
  {
   "cell_type": "code",
   "execution_count": null,
   "metadata": {},
   "outputs": [],
   "source": [
    "insurance.head()"
   ]
  },
  {
   "cell_type": "code",
   "execution_count": null,
   "metadata": {},
   "outputs": [],
   "source": [
    "# Facet along the columns and rows to show a categorical variable using \"col\" and \"row\" parameter\n",
    "sns.set(rc={'xtick.labelsize':12,\n",
    "            'ytick.labelsize':12,\n",
    "            'axes.labelsize':12,\n",
    "            \"axes.grid\":False})\n",
    "\n",
    "sns.relplot(x=\"bmi\", y=\"charges\", hue=\"sex\",\n",
    "            col=\"sex\", row=\"region\", data=insurance)"
   ]
  },
  {
   "cell_type": "code",
   "execution_count": null,
   "metadata": {},
   "outputs": [],
   "source": [
    "# Facet along the columns and rows to show a categorical variable using \"col\" and \"row\" parameter\n",
    "sns.set(rc={'xtick.labelsize':14,\n",
    "            'ytick.labelsize':14,\n",
    "            'axes.labelsize':14,\n",
    "            \"axes.grid\":False})\n",
    "\n",
    "sns.relplot(x=\"bmi\",\n",
    "            y=\"charges\", \n",
    "            hue=\"sex\",\n",
    "            height=7, \n",
    "            aspect=.6,\n",
    "            col=\"region\",\n",
    "            row=\"sex\",\n",
    "            data=insurance)"
   ]
  },
  {
   "cell_type": "markdown",
   "metadata": {},
   "source": [
    "## Bar Plot"
   ]
  },
  {
   "cell_type": "markdown",
   "metadata": {},
   "source": [
    "#### Bar Plot shows the relationship between a numerical variable and a categorical variable."
   ]
  },
  {
   "cell_type": "code",
   "execution_count": null,
   "metadata": {},
   "outputs": [],
   "source": [
    "# Recover default matplotlib settings\n",
    "mpl.rcParams.update(mpl.rcParamsDefault)\n",
    "%matplotlib inline"
   ]
  },
  {
   "cell_type": "code",
   "execution_count": null,
   "metadata": {
    "scrolled": true
   },
   "outputs": [],
   "source": [
    "plt.figure(figsize=(20, 7))\n",
    "sns.barplot(x=pokemon['Type 1'], y=pokemon['Attack'])\n",
    "plt.show()"
   ]
  },
  {
   "cell_type": "code",
   "execution_count": null,
   "metadata": {},
   "outputs": [],
   "source": [
    "pokemon.groupby(['Type 1']).mean().sort_values('Defense', ascending=False).index.values"
   ]
  },
  {
   "cell_type": "code",
   "execution_count": null,
   "metadata": {},
   "outputs": [],
   "source": [
    "# Sorted Bar plot\n",
    "plt.figure(figsize=(20, 7))\n",
    "order = pokemon.groupby(['Type 1']).mean().sort_values('Defense', ascending=False).index.values\n",
    "\n",
    "sns.barplot(x=pokemon['Type 1'],\n",
    "            y= pokemon['Defense'],\n",
    "            order=order)\n",
    "plt.show()"
   ]
  },
  {
   "cell_type": "code",
   "execution_count": null,
   "metadata": {},
   "outputs": [],
   "source": [
    "# Horizontal Bar plot\n",
    "plt.figure(figsize=(8, 10))\n",
    "sns.barplot(x=pokemon['Speed'], y=pokemon['Type 1'])\n",
    "plt.show()"
   ]
  },
  {
   "cell_type": "code",
   "execution_count": null,
   "metadata": {},
   "outputs": [],
   "source": [
    "plt.figure(figsize=(11, 7))\n",
    "sns.barplot(x=\"Age\", y=\"Unemployed\", data=employment)\n",
    "plt.show()"
   ]
  },
  {
   "cell_type": "markdown",
   "metadata": {},
   "source": [
    "# countplot"
   ]
  },
  {
   "cell_type": "code",
   "execution_count": null,
   "metadata": {},
   "outputs": [],
   "source": [
    "plt.figure(figsize=(20, 7))\n",
    "sns.countplot(x=pokemon['Type 1'])\n",
    "plt.show()"
   ]
  },
  {
   "cell_type": "code",
   "execution_count": null,
   "metadata": {},
   "outputs": [],
   "source": [
    "pokemon['Type 1'].value_counts(ascending=True)"
   ]
  },
  {
   "cell_type": "code",
   "execution_count": null,
   "metadata": {},
   "outputs": [],
   "source": [
    "plt.figure(figsize=(20, 7))\n",
    "sns.countplot(x=pokemon['Type 1'],\n",
    "              order=pokemon['Type 1'].value_counts(ascending=True).index)\n",
    "plt.show()"
   ]
  },
  {
   "cell_type": "code",
   "execution_count": null,
   "metadata": {},
   "outputs": [],
   "source": [
    "#Changing the background of count plot\n",
    "plt.figure(figsize=(20, 7))\n",
    "\n",
    "sns.set(rc={\"axes.facecolor\":\"#283747\", \n",
    "            \"axes.grid\":False,\n",
    "            'xtick.labelsize':14,\n",
    "            'ytick.labelsize':14})\n",
    "\n",
    "sns.countplot(x=pokemon['Type 1'],\n",
    "              order = pokemon['Type 1'].value_counts().index)\n",
    "\n",
    "plt.show()"
   ]
  },
  {
   "cell_type": "code",
   "execution_count": null,
   "metadata": {},
   "outputs": [],
   "source": [
    "exercise.head()"
   ]
  },
  {
   "cell_type": "code",
   "execution_count": null,
   "metadata": {},
   "outputs": [],
   "source": [
    "# Show groups with different colors using \"hue\"\n",
    "plt.figure(figsize=(8, 6))\n",
    "\n",
    "sns.set(rc={\"axes.facecolor\":\"yellow\", \n",
    "            \"axes.grid\":False,\n",
    "            'xtick.labelsize':14,\n",
    "            'ytick.labelsize':14})\n",
    "\n",
    "sns.barplot(x=exercise.kind, y=exercise.pulse, hue=exercise.diet)\n",
    "plt.show()"
   ]
  },
  {
   "cell_type": "markdown",
   "metadata": {},
   "source": [
    "# Cat Plot"
   ]
  },
  {
   "cell_type": "markdown",
   "metadata": {},
   "source": [
    "Cat Plot provides access to several axes-level functions (\"point\", \"bar\", \"strip\", \"swarm\",\"box\", \"violin\", \"count\" or \"boxen\") that show the relationship between a numerical and one or more categorical variables"
   ]
  },
  {
   "cell_type": "code",
   "execution_count": null,
   "metadata": {},
   "outputs": [],
   "source": [
    "sns.set(rc={'xtick.labelsize':15,\n",
    "            'ytick.labelsize':15,\n",
    "            'axes.labelsize':15,\n",
    "            \"axes.facecolor\":\"#f2eee3\",\n",
    "            \"axes.grid\":False})\n",
    "\n",
    "sns.catplot(y=\"Type 1\",\n",
    "            kind=\"count\",\n",
    "            data=pokemon)\n",
    "plt.show()"
   ]
  },
  {
   "cell_type": "code",
   "execution_count": null,
   "metadata": {},
   "outputs": [],
   "source": [
    "#Sorted Count Plot\n",
    "sns.catplot(y=\"Type 1\",\n",
    "            kind=\"count\",\n",
    "            data=pokemon,\n",
    "            order=pokemon['Type 1'].value_counts().index)\n",
    "plt.show()"
   ]
  },
  {
   "cell_type": "code",
   "execution_count": null,
   "metadata": {},
   "outputs": [],
   "source": [
    "# Use Voilin Plot to visualize data\n",
    "plt.figure(figsize=(7, 7))\n",
    "sns.catplot(x=\"species\",\n",
    "            y=\"petal_width\",\n",
    "            kind=\"violin\",\n",
    "            data=iris)\n",
    "plt.show()"
   ]
  },
  {
   "cell_type": "code",
   "execution_count": null,
   "metadata": {},
   "outputs": [],
   "source": [
    "plt.figure(figsize=(11, 9))\n",
    "\n",
    "sns.catplot(x=\"petal_width\", \n",
    "            y=\"species\",\n",
    "            kind=\"violin\",\n",
    "            data=iris,\n",
    "            height=5, \n",
    "            aspect=2)\n",
    "\n",
    "plt.show()"
   ]
  },
  {
   "cell_type": "code",
   "execution_count": null,
   "metadata": {},
   "outputs": [],
   "source": [
    "exercise.head()"
   ]
  },
  {
   "cell_type": "code",
   "execution_count": null,
   "metadata": {},
   "outputs": [],
   "source": [
    "# Facet along the columns to show a categorical variable using \"col\" parameter\n",
    "sns.catplot(x='kind', \n",
    "            y='pulse',\n",
    "            data=exercise,\n",
    "            col=\"diet\")"
   ]
  },
  {
   "cell_type": "code",
   "execution_count": null,
   "metadata": {},
   "outputs": [],
   "source": [
    "helpdesk.head()"
   ]
  },
  {
   "cell_type": "code",
   "execution_count": null,
   "metadata": {},
   "outputs": [],
   "source": [
    "\"\"\" Facet along the columns to show a categorical variable using \"col\" parameter and \n",
    "Limiting the number of columns using \"col_wrap\" \"\"\"\n",
    "\n",
    "plt.figure(figsize=(20, 10))\n",
    "\n",
    "sns.catplot(\"Priority\",\n",
    "            col=\"FiledAgainst\",\n",
    "            col_wrap=2,\n",
    "            data=helpdesk,\n",
    "            kind=\"count\",\n",
    "            height=5,\n",
    "            aspect=1)\n",
    "\n",
    "plt.show()"
   ]
  },
  {
   "cell_type": "code",
   "execution_count": null,
   "metadata": {},
   "outputs": [],
   "source": [
    "employment.head()"
   ]
  },
  {
   "cell_type": "code",
   "execution_count": null,
   "metadata": {},
   "outputs": [],
   "source": [
    "# Facet along the columns to show a categorical variable using \"col\" parameter\n",
    "sns.set(rc={'xtick.labelsize':15,\n",
    "            'ytick.labelsize':15,\n",
    "            'axes.labelsize':15,\n",
    "            \"axes.facecolor\":\"#f2eee3\",\n",
    "            \"axes.grid\":False})\n",
    "\n",
    "sns.catplot(x=\"Gender\", \n",
    "            y=\"Unemployed\",\n",
    "            col=\"Age\",\n",
    "            data=employment,\n",
    "            kind=\"bar\",\n",
    "            height=6,\n",
    "            aspect=.5,\n",
    "            palette=\"bright\")\n",
    "plt.show()"
   ]
  },
  {
   "cell_type": "markdown",
   "metadata": {},
   "source": [
    "# Dist Plot"
   ]
  },
  {
   "cell_type": "markdown",
   "metadata": {},
   "source": [
    "#### Dist plot is used to plot a univariate distribution of observations."
   ]
  },
  {
   "cell_type": "code",
   "execution_count": null,
   "metadata": {},
   "outputs": [],
   "source": [
    "# Recover default matplotlib settings\n",
    "mpl.rcParams.update(mpl.rcParamsDefault)\n",
    "%matplotlib inline"
   ]
  },
  {
   "cell_type": "code",
   "execution_count": null,
   "metadata": {},
   "outputs": [],
   "source": [
    "num = np.random.normal(1, 10, 1000)\n",
    "\n",
    "sns.distplot(num)\n",
    "plt.show()"
   ]
  },
  {
   "cell_type": "code",
   "execution_count": null,
   "metadata": {},
   "outputs": [],
   "source": [
    "sns.distplot(num, kde=False)# Histogram without a kernel density estimate (Density Curve)\n",
    "plt.show()"
   ]
  },
  {
   "cell_type": "code",
   "execution_count": null,
   "metadata": {},
   "outputs": [],
   "source": [
    "sns.distplot(num, kde=True, hist=False) # Histogram with Rugplot & KDE\n",
    "plt.show()"
   ]
  },
  {
   "cell_type": "code",
   "execution_count": null,
   "metadata": {},
   "outputs": [],
   "source": [
    "#Housing Dataset\n",
    "housing.head()"
   ]
  },
  {
   "cell_type": "code",
   "execution_count": null,
   "metadata": {},
   "outputs": [],
   "source": [
    "housing.hist(bins=40, figsize=(20, 20)) #Pandas Hist function\n",
    "plt.show()"
   ]
  },
  {
   "cell_type": "code",
   "execution_count": null,
   "metadata": {},
   "outputs": [],
   "source": [
    "plt.figure(figsize=(11, 7))\n",
    "sns.distplot(housing[\"median_income\"])\n",
    "plt.show()"
   ]
  },
  {
   "cell_type": "code",
   "execution_count": null,
   "metadata": {},
   "outputs": [],
   "source": [
    "plt.figure(figsize=(11, 7))\n",
    "sns.distplot(housing[\"median_income\"], bins=20)\n",
    "plt.show()"
   ]
  },
  {
   "cell_type": "code",
   "execution_count": null,
   "metadata": {},
   "outputs": [],
   "source": [
    "plt.figure(figsize=(11, 7))\n",
    "sns.distplot(housing[\"median_income\"], bins=20,\n",
    "             hist_kws=dict(edgecolor='#9dab86', linewidth=2))\n",
    "plt.show()"
   ]
  },
  {
   "cell_type": "code",
   "execution_count": null,
   "metadata": {},
   "outputs": [],
   "source": [
    "#Changing the color of all the plot elements using \"color\" parameter\n",
    "plt.figure(figsize=(11, 7))\n",
    "sns.distplot(housing[\"median_income\"], bins=20,\n",
    "             hist_kws=dict(edgecolor='#9dab86', linewidth=2),\n",
    "             color='green')\n",
    "plt.show()"
   ]
  },
  {
   "cell_type": "code",
   "execution_count": null,
   "metadata": {},
   "outputs": [],
   "source": [
    "sns.set(style=\"white\", color_codes=True)"
   ]
  },
  {
   "cell_type": "code",
   "execution_count": null,
   "metadata": {},
   "outputs": [],
   "source": [
    "# Displaying multiple distplots using subplot function. \n",
    "fig1, axes = plt.subplots(nrows=3, ncols=3, figsize=(20, 20))\n",
    "sns.distplot(housing[\"longitude\"], ax=axes[0, 0])\n",
    "sns.distplot(housing[\"latitude\"], ax=axes[0, 1])\n",
    "sns.distplot(housing[\"housing_median_age\"], ax=axes[0, 2])\n",
    "sns.distplot(housing[\"total_rooms\"], ax=axes[1, 0] )\n",
    "sns.distplot(housing[\"population\"], ax=axes[1, 1] )\n",
    "sns.distplot(housing[\"households\"], ax=axes[1, 2] )\n",
    "sns.distplot(housing[\"median_income\"], ax=axes[2, 0])\n",
    "sns.distplot(housing[\"median_house_value\"], ax=axes[2, 1])\n",
    "sns.distplot(housing[\"median_house_value\"], ax=axes[2, 2])\n",
    "plt.show()"
   ]
  },
  {
   "cell_type": "code",
   "execution_count": null,
   "metadata": {},
   "outputs": [],
   "source": [
    "# Displaying multiple distplots using subplot function. \n",
    "fig1 , axes = plt.subplots(nrows=3, ncols=3, figsize=(20, 20))\n",
    "sns.distplot(housing[\"longitude\"], color=\"#00bcd4\", ax=axes[0, 0], kde=False, bins=20)\n",
    "sns.distplot(housing[\"latitude\"], color=\"#937d14\", ax=axes[0, 1], kde=False, bins=20)\n",
    "sns.distplot(housing[\"housing_median_age\"], color=\"#006600\", ax=axes[0, 2], kde=False, bins=20)\n",
    "sns.distplot(housing[\"total_rooms\"], color=\"#ff1e56\", ax=axes[1, 0] ,kde=False, bins=20)\n",
    "sns.distplot(housing[\"population\"], color=\"#216353\", ax=axes[1, 1] ,kde=False, bins=20)\n",
    "sns.distplot(housing[\"households\"], color=\"#FF8F00\", ax=axes[1, 2] ,kde=False, bins=20)\n",
    "sns.distplot(housing[\"median_income\"], color=\"#33FF00\", ax=axes[2, 0] ,kde=False, bins=20)\n",
    "sns.distplot(housing[\"median_house_value\"], color=\"#FF3300\", ax=axes[2, 1],kde=False, bins=20)\n",
    "sns.distplot(housing[\"median_house_value\"], color=\"#CCCC00\", ax=axes[2, 2] ,kde=False, bins=20)\n",
    "plt.show()"
   ]
  },
  {
   "cell_type": "markdown",
   "metadata": {},
   "source": [
    "# KDE PLOT"
   ]
  },
  {
   "cell_type": "markdown",
   "metadata": {},
   "source": [
    "#### KDE Plot is used to estimate the probability density function of a continuous random variable."
   ]
  },
  {
   "cell_type": "code",
   "execution_count": null,
   "metadata": {},
   "outputs": [],
   "source": [
    "sns.set_style(\"darkgrid\")\n",
    "fig1, axes = plt.subplots(nrows=2, ncols=2, figsize=(14, 14))\n",
    "\n",
    "x = np.random.normal(1, 10, 1000)\n",
    "\n",
    "#Simple KDE Plot\n",
    "axes[0,0].set_title(\"Simple KDE Plot\")\n",
    "sns.kdeplot(x, ax=axes[0, 0])\n",
    "\n",
    "# Shade under the density curve using the \"shade\" parameter\n",
    "axes[0, 1].set_title(\"KDE Plot (Shaded Area Under the Curve)\")\n",
    "sns.kdeplot(x, shade=True, ax=axes[0, 1])\n",
    "\n",
    "# Shade under the density curve using the \"shade\" parameter and use a different color.\n",
    "axes[1, 0].set_title(\"KDE Plot (Different Color)\")\n",
    "sns.kdeplot(x,ax=axes[1,0], color='r', shade=True, cut=0)\n",
    "\n",
    "#Plotting the density on the vertical axis\n",
    "axes[1, 1].set_title(\"KDE Plot (Density on Vertical Axis)\")\n",
    "sns.kdeplot(x, vertical=True)\n",
    "\n",
    "plt.show()"
   ]
  },
  {
   "cell_type": "markdown",
   "metadata": {},
   "source": [
    "# Swarm Plot"
   ]
  },
  {
   "cell_type": "markdown",
   "metadata": {},
   "source": [
    "#### Swarm plot is a categorical scatterplot with non-overlapping points"
   ]
  },
  {
   "cell_type": "code",
   "execution_count": null,
   "metadata": {},
   "outputs": [],
   "source": [
    "# Recover default matplotlib settings\n",
    "mpl.rcParams.update(mpl.rcParamsDefault)\n",
    "%matplotlib inline\n",
    "sns.set_style(\"white\")"
   ]
  },
  {
   "cell_type": "code",
   "execution_count": null,
   "metadata": {},
   "outputs": [],
   "source": [
    "insurance.head()"
   ]
  },
  {
   "cell_type": "code",
   "execution_count": null,
   "metadata": {},
   "outputs": [],
   "source": [
    "#Simple Swarm plot\n",
    "plt.figure(figsize=(7, 7))\n",
    "sns.swarmplot(x=insurance.smoker, y=insurance.charges)\n",
    "plt.show()"
   ]
  },
  {
   "cell_type": "code",
   "execution_count": null,
   "metadata": {},
   "outputs": [],
   "source": [
    "# Draw horizontal swarm plot\n",
    "plt.figure(figsize=(7, 7))\n",
    "sns.swarmplot(x=insurance.charges, y=insurance.smoker)\n",
    "plt.show()"
   ]
  },
  {
   "cell_type": "code",
   "execution_count": null,
   "metadata": {},
   "outputs": [],
   "source": [
    "plt.figure(figsize=(7, 7))\n",
    "sns.swarmplot(x=\"species\", y=\"petal_width\", data=iris, size=6)\n",
    "plt.show()"
   ]
  },
  {
   "cell_type": "code",
   "execution_count": null,
   "metadata": {},
   "outputs": [],
   "source": [
    "# Displaying multiple swarmplots using subplot function. \n",
    "fig1 , axes = plt.subplots(nrows=2, ncols=2, figsize=(20, 20))\n",
    "\n",
    "sns.swarmplot(x=\"species\", y=\"petal_width\", ax=axes[0,0], data=iris, size=8)\n",
    "sns.swarmplot(x=\"species\", y=\"petal_length\", ax=axes[0,1], data=iris, size=8)\n",
    "sns.swarmplot(x=\"species\", y=\"sepal_width\", ax=axes[1,0], data=iris, size=8)\n",
    "sns.swarmplot(x=\"species\", y=\"sepal_length\", ax=axes[1,1], data=iris, size=8)\n",
    "plt.show()"
   ]
  },
  {
   "cell_type": "code",
   "execution_count": null,
   "metadata": {},
   "outputs": [],
   "source": [
    "exercise.head()"
   ]
  },
  {
   "cell_type": "code",
   "execution_count": null,
   "metadata": {},
   "outputs": [],
   "source": [
    "#Changing edge color , size and linewidth of data points\n",
    "plt.figure(figsize=(7, 7))\n",
    "sns.swarmplot(x=\"kind\", \n",
    "              y=\"pulse\",\n",
    "              size=9, \n",
    "              linewidth=2,\n",
    "              edgecolor=\"black\", \n",
    "              data=exercise)"
   ]
  },
  {
   "cell_type": "code",
   "execution_count": null,
   "metadata": {},
   "outputs": [],
   "source": [
    "# Show groups with different colors using \"hue\"\n",
    "plt.figure(figsize=(7, 7))\n",
    "sns.swarmplot(x=\"kind\",\n",
    "              y=\"pulse\", \n",
    "              hue=\"diet\",\n",
    "              size=8,\n",
    "              data=exercise)"
   ]
  },
  {
   "cell_type": "code",
   "execution_count": null,
   "metadata": {},
   "outputs": [],
   "source": [
    "employment.head()"
   ]
  },
  {
   "cell_type": "code",
   "execution_count": null,
   "metadata": {},
   "outputs": [],
   "source": [
    "plt.figure(figsize=(10, 7))\n",
    "sns.swarmplot(x=employment.Age,\n",
    "              palette=\"Set1\",\n",
    "              y=employment.Unemployed)\n",
    "plt.show()"
   ]
  },
  {
   "cell_type": "code",
   "execution_count": null,
   "metadata": {},
   "outputs": [],
   "source": [
    "# Facet along the columns to show a categorical variable using \"col\" parameter\n",
    "sns.set(rc={'xtick.labelsize':10,\n",
    "            'ytick.labelsize':10,\n",
    "            'axes.labelsize':14})\n",
    "sns.set_style(\"white\")\n",
    "\n",
    "sns.catplot(x=\"Age\", \n",
    "            y=\"Unemployed\", \n",
    "            col=\"Gender\",\n",
    "            data=employment, \n",
    "            kind=\"swarm\",\n",
    "            height=8, \n",
    "            aspect=1)\n",
    "plt.show()"
   ]
  },
  {
   "cell_type": "markdown",
   "metadata": {},
   "source": [
    "# Strip Plot"
   ]
  },
  {
   "cell_type": "markdown",
   "metadata": {},
   "source": [
    "#### Strip plot is a scatter plot where one of the variables is categorical."
   ]
  },
  {
   "cell_type": "code",
   "execution_count": null,
   "metadata": {},
   "outputs": [],
   "source": [
    "# Recover default matplotlib settings\n",
    "mpl.rcParams.update(mpl.rcParamsDefault)\n",
    "%matplotlib inline\n",
    "sns.set_style(\"white\")"
   ]
  },
  {
   "cell_type": "code",
   "execution_count": null,
   "metadata": {},
   "outputs": [],
   "source": [
    "employment.head()"
   ]
  },
  {
   "cell_type": "code",
   "execution_count": null,
   "metadata": {},
   "outputs": [],
   "source": [
    "plt.figure(figsize=(11, 8))\n",
    "\n",
    "sns.stripplot(x=employment.Unemployed)\n",
    "plt.show()\n",
    "#1E6. 1,000,000"
   ]
  },
  {
   "cell_type": "code",
   "execution_count": null,
   "metadata": {},
   "outputs": [],
   "source": [
    "plt.figure(figsize=(16, 8))\n",
    "\n",
    "sns.stripplot(x=employment.Age,\n",
    "              palette=\"Set1\", \n",
    "              y=employment.Unemployed)\n",
    "plt.show()"
   ]
  },
  {
   "cell_type": "code",
   "execution_count": null,
   "metadata": {
    "scrolled": true
   },
   "outputs": [],
   "source": [
    "\"\"\" \"Jitter\" parameter signifies the amount of jitter to apply. \n",
    "   This can be extremely useful when we have large clusters of data points\"\"\"\n",
    "plt.figure(figsize=(16, 5))\n",
    "\n",
    "sns.stripplot(x=employment.Age,\n",
    "              palette=\"Set1\", \n",
    "              y=employment.Unemployed, \n",
    "              jitter=.3)\n",
    "plt.show()"
   ]
  },
  {
   "cell_type": "code",
   "execution_count": null,
   "metadata": {},
   "outputs": [],
   "source": [
    "# Flip x and y inputs to make a horizontal strip plot\n",
    "plt.figure(figsize=(11, 8))\n",
    "\n",
    "sns.stripplot(y=employment.Age,\n",
    "              palette=\"Set1\", \n",
    "              x=employment.Unemployed)\n",
    "plt.show()"
   ]
  },
  {
   "cell_type": "code",
   "execution_count": null,
   "metadata": {},
   "outputs": [],
   "source": [
    "plt.figure(figsize=(16, 8))\n",
    "\n",
    "sns.stripplot(x=employment.Age,\n",
    "              palette=\"Set1\", \n",
    "              y=employment.Unemployed,\n",
    "              linewidth=1)\n",
    "plt.show()"
   ]
  },
  {
   "cell_type": "code",
   "execution_count": null,
   "metadata": {},
   "outputs": [],
   "source": [
    "plt.figure(figsize=(16, 10))\n",
    "\n",
    "sns.stripplot(x=employment.Age,\n",
    "              palette=\"Set1\", \n",
    "              y=employment.Unemployed, \n",
    "              linewidth=2,# Adjust the linewidth of the edges of the circles using \"linewidth\" parameter\n",
    "              size=8,# Adjust the size of the circles using the \"size\" parameter\n",
    "              jitter=.3)\n",
    "plt.show()"
   ]
  },
  {
   "cell_type": "code",
   "execution_count": null,
   "metadata": {},
   "outputs": [],
   "source": [
    "# Using set2 pallete\n",
    "plt.figure(figsize=(16, 10))\n",
    "\n",
    "sns.stripplot(x=employment.Age,\n",
    "              palette=\"Set2\", \n",
    "              y=employment.Unemployed,\n",
    "              hue=employment.Gender\n",
    "             )\n",
    "plt.show()"
   ]
  },
  {
   "cell_type": "code",
   "execution_count": null,
   "metadata": {},
   "outputs": [],
   "source": [
    "# Separate the strips for different hue levels along the categorical axis using \"dodge=True\"\n",
    "plt.figure(figsize=(16, 10))\n",
    "\n",
    "sns.stripplot(x=employment.Age,\n",
    "              palette=\"Set2\",\n",
    "              y=employment.Unemployed,\n",
    "              hue=employment.Gender,\n",
    "              jitter=.2, \n",
    "              dodge=True)\n",
    "plt.show()"
   ]
  },
  {
   "cell_type": "code",
   "execution_count": null,
   "metadata": {},
   "outputs": [],
   "source": [
    "plt.figure(figsize=(16, 10))\n",
    "\n",
    "sns.stripplot(x=employment.Age,\n",
    "              palette=\"Set2\", \n",
    "              y=employment.Unemployed, \n",
    "              hue=employment.Gender,\n",
    "              marker=\"o\", \n",
    "              size=30,\n",
    "              alpha=.15)\n",
    "plt.show()"
   ]
  },
  {
   "cell_type": "code",
   "execution_count": null,
   "metadata": {},
   "outputs": [],
   "source": [
    "# Drawing stripplot on top of a box plot\n",
    "plt.figure(figsize=(11, 8))\n",
    "\n",
    "sns.stripplot(x=employment.Age,\n",
    "              y=employment.Unemployed, \n",
    "              color=\"black\",\n",
    "              size=4)\n",
    "\n",
    "sns.boxplot(x=employment.Age,\n",
    "            palette=\"Set1\",\n",
    "            y=employment.Unemployed, \n",
    "            color='black')\n",
    "plt.show()"
   ]
  },
  {
   "cell_type": "code",
   "execution_count": null,
   "metadata": {},
   "outputs": [],
   "source": [
    "plt.figure(figsize=(16, 11))\n",
    "\n",
    "sns.set(rc={\"axes.facecolor\":\"#b0deff\",\n",
    "            \"axes.grid\":False,\n",
    "            'xtick.labelsize':15,\n",
    "            'ytick.labelsize':15,\n",
    "            'axes.labelsize':20,\n",
    "            'figure.figsize':(20.0, 9.0)})\n",
    "\n",
    "params = dict(data=employment,\n",
    "              x=employment.Age,\n",
    "              y=employment.Unemployed,\n",
    "              hue=employment.Gender,\n",
    "              dodge=True)\n",
    "\n",
    "sns.stripplot(**params,\n",
    "              size=8,\n",
    "              jitter=0.35,\n",
    "              palette=['#33FF66','#FF6600'],\n",
    "              edgecolor='black',\n",
    "              linewidth=1)\n",
    "\n",
    "sns.boxplot(**params,\n",
    "            palette=['#BDBDBD','#E0E0E0'],\n",
    "            linewidth=6)\n",
    "\n",
    "plt.show()"
   ]
  },
  {
   "cell_type": "markdown",
   "metadata": {},
   "source": [
    "# Box Plot"
   ]
  },
  {
   "cell_type": "markdown",
   "metadata": {},
   "source": [
    "#### The box plot is a standardized way of displaying the distribution of data based on the five number summary: minimum, first quartile, median, third quartile, and maximum."
   ]
  },
  {
   "cell_type": "code",
   "execution_count": null,
   "metadata": {},
   "outputs": [],
   "source": [
    "# Recover default matplotlib settings\n",
    "mpl.rcParams.update(mpl.rcParamsDefault)\n",
    "%matplotlib inline\n",
    "sns.set_style(\"white\")"
   ]
  },
  {
   "cell_type": "code",
   "execution_count": null,
   "metadata": {},
   "outputs": [],
   "source": [
    "insurance.head()"
   ]
  },
  {
   "cell_type": "code",
   "execution_count": null,
   "metadata": {},
   "outputs": [],
   "source": [
    "# Simple boxplot\n",
    "plt.figure(figsize=(8, 6))\n",
    "sns.boxplot(insurance.bmi)"
   ]
  },
  {
   "cell_type": "code",
   "execution_count": null,
   "metadata": {},
   "outputs": [],
   "source": [
    "# Vertical boxplot\n",
    "sns.set_style(\"darkgrid\")\n",
    "\n",
    "plt.figure(figsize=(8, 6))\n",
    "sns.boxplot(x=insurance.smoker,\n",
    "            y=insurance.charges)"
   ]
  },
  {
   "cell_type": "code",
   "execution_count": null,
   "metadata": {},
   "outputs": [],
   "source": [
    "#Explicit ordering using \"order\" parameter\n",
    "plt.figure(figsize=(8, 6))\n",
    "\n",
    "sns.boxplot(x=insurance.smoker, \n",
    "            y=insurance.charges, \n",
    "            order=['no', 'yes'])"
   ]
  },
  {
   "cell_type": "code",
   "execution_count": null,
   "metadata": {},
   "outputs": [],
   "source": [
    "helpdesk.head()"
   ]
  },
  {
   "cell_type": "code",
   "execution_count": null,
   "metadata": {},
   "outputs": [],
   "source": [
    "plt.figure(figsize=(7, 6))\n",
    "\n",
    "sns.boxplot(helpdesk.daysOpen)\n",
    "plt.show()"
   ]
  },
  {
   "cell_type": "code",
   "execution_count": null,
   "metadata": {},
   "outputs": [],
   "source": [
    "plt.figure(figsize=(8, 6))\n",
    "\n",
    "sns.boxplot(x=helpdesk.FiledAgainst, y=helpdesk.daysOpen)"
   ]
  },
  {
   "cell_type": "code",
   "execution_count": null,
   "metadata": {},
   "outputs": [],
   "source": [
    "# Adjust width of boxes\n",
    "plt.subplots(figsize = (14, 24))\n",
    "\n",
    "plt.subplot(3, 1, 1)\n",
    "sns.boxplot(x=stdperf['parental level of education'],\n",
    "            y=stdperf['math score'],\n",
    "            width=.7)#width of plot\n",
    "\n",
    "plt.subplot(3, 1, 2)\n",
    "sns.boxplot(x=stdperf['parental level of education'],\n",
    "            y=stdperf['reading score'], \n",
    "            width=.5)\n",
    "\n",
    "plt.subplot(3, 1, 3)\n",
    "sns.boxplot(x=stdperf['parental level of education'], \n",
    "            y= stdperf['writing score'],\n",
    "            width=.25)\n",
    "\n",
    "plt.show()"
   ]
  },
  {
   "cell_type": "code",
   "execution_count": null,
   "metadata": {},
   "outputs": [],
   "source": [
    "plt.figure(figsize=(6, 7))\n",
    "\n",
    "sns.boxplot(x=exercise.kind, \n",
    "            y=exercise.pulse)\n",
    "plt.show()"
   ]
  },
  {
   "cell_type": "code",
   "execution_count": null,
   "metadata": {},
   "outputs": [],
   "source": [
    "# Show groups with different colors using \"hue\"\n",
    "plt.figure(figsize=(6, 7))\n",
    "\n",
    "sns.boxplot(x=exercise.kind, \n",
    "            y=exercise.pulse, \n",
    "            hue=exercise.diet)\n",
    "plt.show()"
   ]
  },
  {
   "cell_type": "code",
   "execution_count": null,
   "metadata": {},
   "outputs": [],
   "source": [
    "plt.figure(figsize = (14, 8))\n",
    "\n",
    "plt.text(1.5, 105, \"Box Plot\", fontsize=50, color='Black')\n",
    "\n",
    "sns.boxplot(x=stdperf['parental level of education'],\n",
    "            y=stdperf['math score'],  \n",
    "            width=.7,\n",
    "            hue=stdperf['test preparation course'],\n",
    "            palette= 'rainbow')\n",
    "plt.show()"
   ]
  },
  {
   "cell_type": "code",
   "execution_count": null,
   "metadata": {},
   "outputs": [],
   "source": [
    "sns.set_style(\"white\")"
   ]
  },
  {
   "cell_type": "code",
   "execution_count": null,
   "metadata": {},
   "outputs": [],
   "source": [
    "# Remove the top and right axis spines\n",
    "plt.figure(figsize = (14, 6))\n",
    "\n",
    "sns.boxplot(x=stdperf['parental level of education'], \n",
    "            y=stdperf['math score'], \n",
    "            width=.7, \n",
    "            hue=stdperf['test preparation course'] , \n",
    "            palette={\"none\":'#FFB74D' , \"completed\":'#9CCC65'} )\n",
    "# sns.despine()\n",
    "plt.show()"
   ]
  },
  {
   "cell_type": "code",
   "execution_count": null,
   "metadata": {},
   "outputs": [],
   "source": [
    "# Remove the top and right axis spines\n",
    "plt.figure(figsize = (14, 6))\n",
    "\n",
    "sns.boxplot(x=stdperf['parental level of education'], \n",
    "            y=stdperf['math score'], \n",
    "            width=.7, \n",
    "            hue=stdperf['test preparation course'] , \n",
    "            palette={\"none\":'#FFB74D' , \"completed\":'#9CCC65'} )\n",
    "sns.despine()\n",
    "plt.show()"
   ]
  },
  {
   "cell_type": "code",
   "execution_count": null,
   "metadata": {},
   "outputs": [],
   "source": [
    "plt.figure(figsize=(14, 6))\n",
    "\n",
    "sns.boxplot(x=stdperf['parental level of education'], \n",
    "            y=stdperf['math score'], \n",
    "            width=.7, \n",
    "            hue=stdperf['test preparation course'], \n",
    "            palette={\"none\":'#FFB74D', \"completed\":'#9CCC65'})\n",
    "\n",
    "sns.despine(left=True)\n",
    "plt.show()"
   ]
  },
  {
   "cell_type": "code",
   "execution_count": null,
   "metadata": {},
   "outputs": [],
   "source": [
    "# Changing Linewidth\n",
    "plt.figure(figsize=(14, 6))\n",
    "\n",
    "sns.boxplot(x=stdperf['parental level of education'],\n",
    "            y=stdperf['math score'], \n",
    "            width=.7, \n",
    "            hue=stdperf['test preparation course'], \n",
    "            palette={\"none\":'#FFB74D',\n",
    "                     \"completed\":'#9CCC65'},\n",
    "            linewidth=3)\n",
    "sns.despine(left=True)\n",
    "plt.show()"
   ]
  },
  {
   "cell_type": "code",
   "execution_count": null,
   "metadata": {},
   "outputs": [],
   "source": [
    "plt.figure(figsize=(14, 6))\n",
    "\n",
    "sns.boxplot(x=stdperf['parental level of education'],\n",
    "            y=stdperf['math score'], \n",
    "            width=.7,\n",
    "            hue=stdperf['test preparation course'], \n",
    "            palette={\"none\":'#FFB74D', \n",
    "                     \"completed\":'#9CCC65'},\n",
    "            linewidth=2)\n",
    "\n",
    "sns.despine(left=True)\n",
    "plt.xticks(rotation=45)\n",
    "plt.show()"
   ]
  },
  {
   "cell_type": "markdown",
   "metadata": {},
   "source": [
    "# Pair Plot"
   ]
  },
  {
   "cell_type": "markdown",
   "metadata": {},
   "source": [
    "#### Pair Plot is used for plotting pairwise relationships in a dataset."
   ]
  },
  {
   "cell_type": "code",
   "execution_count": null,
   "metadata": {},
   "outputs": [],
   "source": [
    "# Recover default matplotlib settings\n",
    "mpl.rcParams.update(mpl.rcParamsDefault)\n",
    "%matplotlib inline"
   ]
  },
  {
   "cell_type": "code",
   "execution_count": null,
   "metadata": {},
   "outputs": [],
   "source": [
    "fish.head()"
   ]
  },
  {
   "cell_type": "code",
   "execution_count": null,
   "metadata": {},
   "outputs": [],
   "source": [
    "fish1 = fish[fish['Species'].isin(['Bream', 'Perch', 'Pike'])]\n",
    "fish1.head()"
   ]
  },
  {
   "cell_type": "code",
   "execution_count": null,
   "metadata": {},
   "outputs": [],
   "source": [
    "# Draw scatterplots for joint relationships and histograms for univariate distributions\n",
    "plt.figure(figsize=(11, 9))\n",
    "sns.pairplot(fish1)\n",
    "plt.show()"
   ]
  },
  {
   "cell_type": "code",
   "execution_count": null,
   "metadata": {},
   "outputs": [],
   "source": [
    "# Show groups with different colors using \"hue\"\n",
    "plt.figure(figsize=(11, 9))\n",
    "sns.pairplot(fish1, hue='Species')\n",
    "plt.show()"
   ]
  },
  {
   "cell_type": "code",
   "execution_count": null,
   "metadata": {},
   "outputs": [],
   "source": [
    "# Changing palettes\n",
    "sns.pairplot(fish1, hue='Species', palette=\"husl\", size=2)\n",
    "plt.show()"
   ]
  },
  {
   "cell_type": "code",
   "execution_count": null,
   "metadata": {},
   "outputs": [],
   "source": [
    "# Plot a subset of variables\n",
    "sns.pairplot(fish1, hue='Species',\n",
    "             vars=[\"Length1\", \"Weight\", \"Height\", \"Width\"],\n",
    "             height=3, aspect=1)\n",
    "plt.show()"
   ]
  },
  {
   "cell_type": "code",
   "execution_count": null,
   "metadata": {},
   "outputs": [],
   "source": [
    "# Use different markers for each level of the hue variable\n",
    "sns.pairplot(fish1, hue='Species',\n",
    "             vars=[\"Length1\", \"Weight\", \"Height\", \"Width\"], \n",
    "             markers=['o' , 'D' , '<'], \n",
    "             height=5, aspect=1)\n",
    "plt.show()"
   ]
  },
  {
   "cell_type": "code",
   "execution_count": null,
   "metadata": {},
   "outputs": [],
   "source": [
    "# Fit linear regression models to the scatter plots\n",
    "sns.pairplot(fish1, hue='Species',\n",
    "             vars=[\"Weight\", \"Height\", \"Width\"], \n",
    "             kind=\"reg\", height=5, aspect=1)\n",
    "plt.show()"
   ]
  },
  {
   "cell_type": "code",
   "execution_count": null,
   "metadata": {},
   "outputs": [],
   "source": [
    "# Changing size of circles in scatter plots using -> plot_kws=dict(s=140)\n",
    "sns.pairplot(fish1, hue='Species',\n",
    "             vars=[\"Weight\", \"Height\", \"Width\"], \n",
    "             plot_kws=dict(s=140, linewidth=1),\n",
    "             height=5, aspect=1)\n",
    "plt.show()"
   ]
  },
  {
   "cell_type": "code",
   "execution_count": null,
   "metadata": {},
   "outputs": [],
   "source": [
    "sns.pairplot(fish1, hue='Species', vars=[\"Weight\", \"Height\", \"Width\"], \n",
    "             plot_kws=dict(s=140, linewidth=1, alpha=.6),\n",
    "             height=5, aspect=1)\n",
    "plt.show()"
   ]
  },
  {
   "cell_type": "markdown",
   "metadata": {},
   "source": [
    "# Pair Grid"
   ]
  },
  {
   "cell_type": "markdown",
   "metadata": {},
   "source": [
    "#### Pair Grid is a Subplot grid for plotting pairwise relationships in a dataset. Different axes-level plotting functions can be used to draw bivariate plots in the upper and lower triangles, and the the marginal distribution of each variable can be shown on the diagonal."
   ]
  },
  {
   "cell_type": "code",
   "execution_count": null,
   "metadata": {},
   "outputs": [],
   "source": [
    "#scatterplot for each pairwise relationship\n",
    "g=sns.PairGrid(fish1)\n",
    "g=g.map(plt.scatter)\n",
    "plt.show()"
   ]
  },
  {
   "cell_type": "code",
   "execution_count": null,
   "metadata": {},
   "outputs": [],
   "source": [
    "# Histogram on the diagonal \n",
    "g=sns.PairGrid(fish1)\n",
    "g=g.map_offdiag(plt.scatter)\n",
    "g=g.map_diag(plt.hist)\n",
    "plt.show()"
   ]
  },
  {
   "cell_type": "code",
   "execution_count": null,
   "metadata": {},
   "outputs": [],
   "source": [
    "# Show groups with different colors using \"hue\"\n",
    "g = sns.PairGrid(fish1, hue='Species')\n",
    "g = g.map_offdiag(plt.scatter)\n",
    "g = g.map_diag(plt.hist)\n",
    "g = g.add_legend()\n",
    "plt.show()"
   ]
  },
  {
   "cell_type": "code",
   "execution_count": null,
   "metadata": {},
   "outputs": [],
   "source": [
    "g = sns.PairGrid(fish1, hue='Species', palette=\"husl\")\n",
    "g = g.map_offdiag(plt.scatter)\n",
    "g = g.map_diag(plt.hist)\n",
    "g = g.add_legend()\n",
    "plt.show()"
   ]
  },
  {
   "cell_type": "code",
   "execution_count": null,
   "metadata": {},
   "outputs": [],
   "source": [
    "# Changing histogram styling\n",
    "g = sns.PairGrid(fish1, hue='Species')\n",
    "g = g.map_offdiag(plt.scatter)\n",
    "g = g.map_diag(plt.hist, histtype=\"step\", linewidth=2)\n",
    "g = g.add_legend()\n",
    "plt.show()"
   ]
  },
  {
   "cell_type": "code",
   "execution_count": null,
   "metadata": {},
   "outputs": [],
   "source": [
    "# Plot a subset of variables\n",
    "g = sns.PairGrid(fish1, hue='Species',\n",
    "                 vars=[\"Weight\", \"Height\", \"Width\"],\n",
    "                 height=5, aspect=1)\n",
    "g = g.map_offdiag(plt.scatter, edgecolor=\"w\", s=130)\n",
    "g = g.map_diag(plt.hist, edgecolor ='w', linewidth=2)\n",
    "g = g.add_legend()\n",
    "plt.show()"
   ]
  },
  {
   "cell_type": "markdown",
   "metadata": {},
   "source": [
    "# Regression Plot"
   ]
  },
  {
   "cell_type": "markdown",
   "metadata": {},
   "source": [
    "#### Regression plot is used to plot data and a linear regression model fit."
   ]
  },
  {
   "cell_type": "code",
   "execution_count": null,
   "metadata": {},
   "outputs": [],
   "source": [
    "# Recover default matplotlib settings\n",
    "mpl.rcParams.update(mpl.rcParamsDefault)\n",
    "%matplotlib inline"
   ]
  },
  {
   "cell_type": "code",
   "execution_count": null,
   "metadata": {},
   "outputs": [],
   "source": [
    "fish1.head()"
   ]
  },
  {
   "cell_type": "code",
   "execution_count": null,
   "metadata": {},
   "outputs": [],
   "source": [
    "# Plot the relationship between two variables\n",
    "plt.figure(figsize=(7, 7))\n",
    "sns.regplot(x=fish1.Weight, y=fish1.Height)\n",
    "plt.show()"
   ]
  },
  {
   "cell_type": "code",
   "execution_count": null,
   "metadata": {},
   "outputs": [],
   "source": [
    "# Plot the relationship between two variables and use a different color\n",
    "plt.figure(figsize=(9, 9))\n",
    "sns.regplot(x=fish1.Weight, y=fish1.Height, color='#FF6600')\n",
    "plt.show()"
   ]
  },
  {
   "cell_type": "code",
   "execution_count": null,
   "metadata": {},
   "outputs": [],
   "source": [
    "plt.figure(figsize=(9, 9))\n",
    "sns.regplot(x=fish1.Weight, \n",
    "            y=fish1.Height, \n",
    "            color='#FF6600', \n",
    "            marker='>')\n",
    "plt.show()"
   ]
  },
  {
   "cell_type": "code",
   "execution_count": null,
   "metadata": {},
   "outputs": [],
   "source": [
    "# Use 50% Confidnce interval\n",
    "plt.figure(figsize=(9, 9))\n",
    "sns.regplot(x=fish1.Weight, \n",
    "            y=fish1.Height, \n",
    "            color='#FF6600', \n",
    "            ci=50, \n",
    "            truncate=False)\n",
    "plt.show()"
   ]
  },
  {
   "cell_type": "code",
   "execution_count": null,
   "metadata": {},
   "outputs": [],
   "source": [
    "#Fit the regression model using log(x)\n",
    "plt.figure(figsize=(9, 9))\n",
    "sns.regplot(x=fish1.Weight, \n",
    "            y=fish1.Height, \n",
    "            color='#FF6600', \n",
    "            logx=True)\n",
    "plt.show()"
   ]
  },
  {
   "cell_type": "code",
   "execution_count": null,
   "metadata": {},
   "outputs": [],
   "source": [
    "# Change the color and width of regression line -> line_kws={\"color\":\"#FF5722\",\"lw\":3}\n",
    "plt.figure(figsize=(9, 9))\n",
    "sns.regplot(x=fish1.Weight, \n",
    "            y=fish1.Height, \n",
    "            logx=True,\n",
    "            line_kws={\"color\":\"#FF5722\", \"alpha\":0.8, \"lw\":3})\n",
    "plt.show()"
   ]
  },
  {
   "cell_type": "code",
   "execution_count": null,
   "metadata": {},
   "outputs": [],
   "source": [
    "#Fit a regression model for a categorical variable\n",
    "sns.lmplot(x=\"bmi\", \n",
    "           y=\"charges\", \n",
    "           hue=\"smoker\", \n",
    "           data=insurance, \n",
    "           height=8,\n",
    "           aspect=1.2)\n",
    "plt.show()"
   ]
  },
  {
   "cell_type": "code",
   "execution_count": null,
   "metadata": {},
   "outputs": [],
   "source": [
    "sns.lmplot(x=\"bmi\", \n",
    "           y=\"charges\",\n",
    "           hue=\"smoker\",\n",
    "           data=insurance, \n",
    "           height=8,\n",
    "           aspect=1.2, \n",
    "           scatter_kws ={'s':90 , 'alpha':.4},\n",
    "           palette=[\"#FF3333\" ,\"#00CC00\"])\n",
    "plt.show()"
   ]
  },
  {
   "cell_type": "code",
   "execution_count": null,
   "metadata": {},
   "outputs": [],
   "source": [
    "insurance.head()"
   ]
  },
  {
   "cell_type": "code",
   "execution_count": null,
   "metadata": {},
   "outputs": [],
   "source": [
    "# Plot the levels of the third variable across different columns\n",
    "sns.lmplot(x=\"bmi\",\n",
    "           y=\"charges\", \n",
    "           hue=\"smoker\", \n",
    "           col=\"sex\", \n",
    "           data=insurance,\n",
    "           height=6,\n",
    "           aspect=1)"
   ]
  },
  {
   "cell_type": "code",
   "execution_count": null,
   "metadata": {},
   "outputs": [],
   "source": [
    "\"\"\" Facet along the columns to show a categorical variable using \"col\" parameter and \n",
    "Limiting the number of columns using \"col_wrap\" \"\"\"\n",
    "\n",
    "sns.lmplot(x=\"bmi\", \n",
    "           y=\"charges\", \n",
    "           hue=\"smoker\", \n",
    "           col=\"region\", \n",
    "           data=insurance,\n",
    "           height=7,\n",
    "           aspect=1,\n",
    "           col_wrap = 2)"
   ]
  },
  {
   "cell_type": "code",
   "execution_count": null,
   "metadata": {},
   "outputs": [],
   "source": [
    "# Facet along the columns and rows to show a categorical variables using \"col\" and \"row\" parameter\n",
    "sns.lmplot(x=\"bmi\",\n",
    "           y=\"charges\",\n",
    "           row=\"smoker\",\n",
    "           col=\"region\", \n",
    "           data=insurance,\n",
    "           height=4,\n",
    "           aspect=1)"
   ]
  },
  {
   "cell_type": "markdown",
   "metadata": {},
   "source": [
    "# Heat Map"
   ]
  },
  {
   "cell_type": "markdown",
   "metadata": {},
   "source": [
    "A heat map is a data visualization technique that shows magnitude of a phenomenon as color in two dimensions. The variation in color may be by hue or intensity, giving obvious visual cues to the reader about how the phenomenon is clustered or varies over space."
   ]
  },
  {
   "cell_type": "code",
   "execution_count": null,
   "metadata": {},
   "outputs": [],
   "source": [
    "canada1 = canada.loc['2004':, ['Germany' , 'France' , 'Mexico' , 'Bangladesh' ,'Brazil','Israel' , 'Egypt' , 'Colombia' , 'Iraq','Jamaica']]\n",
    "canada1.head()"
   ]
  },
  {
   "cell_type": "code",
   "execution_count": null,
   "metadata": {},
   "outputs": [],
   "source": [
    "plt.figure(figsize=(16, 9))\n",
    "ax = sns.heatmap(canada1)\n",
    "plt.yticks(rotation=0)\n",
    "plt.show()"
   ]
  },
  {
   "cell_type": "code",
   "execution_count": null,
   "metadata": {},
   "outputs": [],
   "source": [
    "# Changing cmap \n",
    "plt.figure(figsize=(16,9))\n",
    "ax = sns.heatmap(canada1, vmin=0, vmax=8000, cmap=\"YlGnBu\")\n",
    "plt.yticks(rotation=0)\n",
    "plt.show()"
   ]
  },
  {
   "cell_type": "code",
   "execution_count": null,
   "metadata": {},
   "outputs": [],
   "source": [
    "# Add lines between each cell\n",
    "plt.figure(figsize=(16,9))\n",
    "ax = sns.heatmap(canada1, vmin=0, vmax=8000, linewidths=.1)\n",
    "plt.yticks(rotation=0)\n",
    "plt.show()"
   ]
  },
  {
   "cell_type": "code",
   "execution_count": null,
   "metadata": {},
   "outputs": [],
   "source": [
    "# Annotate each cell with the numeric value using integer formatting\n",
    "plt.figure(figsize=(16, 9))\n",
    "ax = sns.heatmap(canada1, vmin=0, vmax=8000, annot=True, fmt=\"d\")\n",
    "plt.yticks(rotation=0)\n",
    "plt.show()"
   ]
  },
  {
   "cell_type": "code",
   "execution_count": null,
   "metadata": {},
   "outputs": [],
   "source": [
    "# Annotate each cell with the numeric value using decimal formatting\n",
    "plt.figure(figsize=(16, 9))\n",
    "ax = sns.heatmap(canada1,vmin=0, vmax=8000, cmap=\"YlGnBu\",\n",
    "                 annot=True, fmt=\".2f\")\n",
    "plt.yticks(rotation=0)\n",
    "plt.show()"
   ]
  },
  {
   "cell_type": "code",
   "execution_count": null,
   "metadata": {},
   "outputs": [],
   "source": [
    "plt.figure(figsize=(20,11))\n",
    "ax = sns.heatmap(canada1, vmin=0, vmax=8000,\n",
    "                 cmap=\"YlGnBu\", linewidths=.5, annot=True,\n",
    "                 annot_kws={'size':14}, fmt=\".1f\")\n",
    "plt.yticks(rotation=0)\n",
    "plt.show()"
   ]
  },
  {
   "cell_type": "code",
   "execution_count": null,
   "metadata": {},
   "outputs": [],
   "source": [
    "# Turn off the colorbar -> cbar=False\n",
    "plt.figure(figsize=(20, 11))\n",
    "ax = sns.heatmap(canada1, vmin=0, vmax=8000,\n",
    "                 cmap=\"YlGnBu\", linewidths=.5, \n",
    "                 annot=True, annot_kws={'size':14},\n",
    "                 fmt=\".1f\", cbar=False)\n",
    "plt.yticks(rotation=0)\n",
    "plt.show()"
   ]
  },
  {
   "cell_type": "code",
   "execution_count": null,
   "metadata": {},
   "outputs": [],
   "source": [
    "sns.set(rc={'xtick.labelsize':17,\n",
    "            'ytick.labelsize':17,\n",
    "            'axes.labelsize':20})"
   ]
  },
  {
   "cell_type": "code",
   "execution_count": null,
   "metadata": {},
   "outputs": [],
   "source": [
    "plt.figure(figsize=(20, 12))\n",
    "plt.rcParams['figure.facecolor'] = \"#a1c45a\"\n",
    "plt.rcParams['axes.facecolor'] = \"#a1c45a\"\n",
    "plt.rcParams['axes.labelsize'] = 20\n",
    "plt.rcParams['xtick.labelsize'] = 15\n",
    "plt.rcParams['ytick.labelsize'] = 15\n",
    "\n",
    "ax = sns.heatmap(canada1, vmin=0, vmax=8000,\n",
    "                 cmap=\"YlGnBu\", linewidths=.5,\n",
    "                 annot=True, annot_kws={'size':14}, fmt=\".1f\")\n",
    "plt.yticks(rotation=0)\n",
    "plt.text(4, -.2, \"Heat Map\", fontsize=50, color='Black')\n",
    "plt.show()"
   ]
  },
  {
   "cell_type": "markdown",
   "metadata": {},
   "source": [
    "# Facet Grid\n",
    "\n",
    "##### Multi-plot grid for plotting. A FacetGrid can be drawn with up to three dimensions − row, col, and hue."
   ]
  },
  {
   "cell_type": "code",
   "execution_count": null,
   "metadata": {},
   "outputs": [],
   "source": [
    "# Recover default matplotlib settings\n",
    "mpl.rcParams.update(mpl.rcParamsDefault)\n",
    "plt.rcParams['axes.labelsize']=10\n",
    "plt.rcParams['xtick.labelsize']=10\n",
    "plt.rcParams['ytick.labelsize']=10"
   ]
  },
  {
   "cell_type": "code",
   "execution_count": null,
   "metadata": {},
   "outputs": [],
   "source": [
    "insurance.head()"
   ]
  },
  {
   "cell_type": "code",
   "execution_count": null,
   "metadata": {},
   "outputs": [],
   "source": [
    "# Facet along the columns to show a categorical variables using \"col\" parameter (univariate plot on each facet)\n",
    "g = sns.FacetGrid(insurance, col=\"sex\")\n",
    "g = g.map(plt.hist, \"bmi\", edgecolor ='w', linewidth=2)"
   ]
  },
  {
   "cell_type": "code",
   "execution_count": null,
   "metadata": {},
   "outputs": [],
   "source": [
    "# Facet along the columns and rows to show a categorical variables using \"col\" and \"row\" parameter\n",
    "g = sns.FacetGrid(insurance,\n",
    "                  col=\"sex\", \n",
    "                  row=\"region\", \n",
    "                  height=4, \n",
    "                  aspect=1)\n",
    "\n",
    "g = g.map(plt.hist, \n",
    "          \"bmi\",\n",
    "          edgecolor ='w',\n",
    "          linewidth=1)"
   ]
  },
  {
   "cell_type": "code",
   "execution_count": null,
   "metadata": {},
   "outputs": [],
   "source": [
    "# Changing color of bars\n",
    "g = sns.FacetGrid(insurance, \n",
    "                  col=\"region\",\n",
    "                  row=\"sex\", \n",
    "                  height=3, \n",
    "                  aspect=1)\n",
    "\n",
    "g = g.map(plt.hist, \n",
    "          \"bmi\", \n",
    "          color='#F39C12',\n",
    "          edgecolor='w', \n",
    "          linewidth=1)"
   ]
  },
  {
   "cell_type": "code",
   "execution_count": null,
   "metadata": {},
   "outputs": [],
   "source": [
    "# Bivariate function on each facet\n",
    "g = sns.FacetGrid(insurance,\n",
    "                  col=\"region\",\n",
    "                  row=\"sex\", \n",
    "                  height=3, \n",
    "                  aspect=1)\n",
    "\n",
    "g = g.map(plt.scatter, \"bmi\", \"charges\")"
   ]
  },
  {
   "cell_type": "code",
   "execution_count": null,
   "metadata": {},
   "outputs": [],
   "source": [
    "# Changing size of dots -> s = 80\n",
    "g = sns.FacetGrid(insurance, \n",
    "                  col=\"region\", \n",
    "                  row=\"sex\", \n",
    "                  height=3,\n",
    "                  aspect=1)\n",
    "\n",
    "g = g.map(plt.scatter, \n",
    "          \"bmi\" ,\n",
    "          \"charges\", \n",
    "          color='#FF6600',\n",
    "          edgecolor=\"w\",\n",
    "          s=80)"
   ]
  },
  {
   "cell_type": "code",
   "execution_count": null,
   "metadata": {},
   "outputs": [],
   "source": [
    "# Show groups with different colors using \"hue\"\n",
    "g = sns.FacetGrid(insurance, \n",
    "                  col=\"region\", \n",
    "                  row=\"sex\", \n",
    "                  hue=\"smoker\",\n",
    "                  height=3, \n",
    "                  aspect=1)\n",
    "\n",
    "g = g.map(plt.scatter, \"bmi\", \"charges\", edgecolor=\"w\", s=70)"
   ]
  },
  {
   "cell_type": "code",
   "execution_count": null,
   "metadata": {},
   "outputs": [],
   "source": [
    "# Showing legend -> g.add_legend()\n",
    "g = sns.FacetGrid(insurance, \n",
    "                  col=\"region\", \n",
    "                  row=\"sex\", \n",
    "                  hue=\"smoker\",\n",
    "                  height=3,\n",
    "                  aspect=.9)\n",
    "\n",
    "g = g.map(plt.scatter, \"bmi\" , \"charges\", edgecolor=\"w\", s=70)\n",
    "g.add_legend()"
   ]
  },
  {
   "cell_type": "markdown",
   "metadata": {},
   "source": [
    "# Joint Plot\n",
    "\n",
    "#### Joint plot is used to draw a plot of two variables with bivariate graph and univariate graphs in the margin."
   ]
  },
  {
   "cell_type": "code",
   "execution_count": null,
   "metadata": {},
   "outputs": [],
   "source": [
    "# Recover default matplotlib settings\n",
    "mpl.rcParams.update(mpl.rcParamsDefault)\n",
    "%matplotlib inline"
   ]
  },
  {
   "cell_type": "code",
   "execution_count": null,
   "metadata": {},
   "outputs": [],
   "source": [
    "insurance.head()"
   ]
  },
  {
   "cell_type": "code",
   "execution_count": null,
   "metadata": {},
   "outputs": [],
   "source": [
    "# scatterplot with marginal histograms\n",
    "sns.jointplot(x=\"bmi\", y=\"charges\", data=insurance, height=10)"
   ]
  },
  {
   "cell_type": "code",
   "execution_count": null,
   "metadata": {},
   "outputs": [],
   "source": [
    "# Regplot with marginal distplot\n",
    "sns.jointplot(x=\"bmi\", y=\"charges\", data=insurance, \n",
    "              height=10, kind=\"reg\")"
   ]
  },
  {
   "cell_type": "code",
   "execution_count": null,
   "metadata": {},
   "outputs": [],
   "source": []
  },
  {
   "cell_type": "code",
   "execution_count": null,
   "metadata": {},
   "outputs": [],
   "source": []
  }
 ],
 "metadata": {
  "kernelspec": {
   "display_name": "Python 3 (ipykernel)",
   "language": "python",
   "name": "python3"
  },
  "language_info": {
   "codemirror_mode": {
    "name": "ipython",
    "version": 3
   },
   "file_extension": ".py",
   "mimetype": "text/x-python",
   "name": "python",
   "nbconvert_exporter": "python",
   "pygments_lexer": "ipython3",
   "version": "3.9.6"
  }
 },
 "nbformat": 4,
 "nbformat_minor": 2
}
