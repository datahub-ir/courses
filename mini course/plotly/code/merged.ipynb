{
 "cells": [
  {
   "cell_type": "markdown",
   "metadata": {},
   "source": [
    "<html>\n",
    "<body>\n",
    "<div align=\"center\">\n",
    "    \n",
    "<h1>Data Visualization With Plotly</h1>\n",
    "\n",
    "</div>\n",
    "</body>\n",
    "</html>"
   ]
  },
  {
   "cell_type": "code",
   "execution_count": null,
   "metadata": {},
   "outputs": [],
   "source": [
    "# !pip install plotly"
   ]
  },
  {
   "cell_type": "code",
   "execution_count": null,
   "metadata": {},
   "outputs": [],
   "source": [
    "import numpy as np\n",
    "import pandas as pd\n",
    "import plotly.graph_objects as go\n",
    "import plotly.offline as po\n",
    "from plotly.offline import download_plotlyjs, init_notebook_mode, plot, iplot\n",
    "import matplotlib.pyplot as plt\n",
    "import dash\n",
    "import plotly.express as px\n",
    "import random\n",
    "import plotly.figure_factory as ff"
   ]
  },
  {
   "cell_type": "markdown",
   "metadata": {},
   "source": [
    "# Loading Datasets"
   ]
  },
  {
   "cell_type": "code",
   "execution_count": null,
   "metadata": {},
   "outputs": [],
   "source": [
    "insurance = pd.read_csv('./Datasets/insurance.csv')\n",
    "insurance.head()"
   ]
  },
  {
   "cell_type": "code",
   "execution_count": null,
   "metadata": {},
   "outputs": [],
   "source": [
    "employment = pd.read_excel(\"./Datasets/unemployment.xlsx\")\n",
    "employment.head()"
   ]
  },
  {
   "cell_type": "code",
   "execution_count": null,
   "metadata": {},
   "outputs": [],
   "source": [
    "suicide = pd.read_csv(\"./Datasets/suicide.csv\") \n",
    "suicide.head()"
   ]
  },
  {
   "cell_type": "code",
   "execution_count": null,
   "metadata": {},
   "outputs": [],
   "source": [
    "canada = pd.read_csv(\"./Datasets/canada.csv\")\n",
    "canada.head()"
   ]
  },
  {
   "cell_type": "code",
   "execution_count": null,
   "metadata": {},
   "outputs": [],
   "source": [
    "canada.columns"
   ]
  },
  {
   "cell_type": "code",
   "execution_count": null,
   "metadata": {},
   "outputs": [],
   "source": [
    "canada.drop(columns=['AREA' , 'DEV', 'DevName' , 'REG', 'Type', 'Coverage' , 'AreaName', 'RegName' ],\n",
    "            inplace=True)\n",
    "canada.head()"
   ]
  },
  {
   "cell_type": "code",
   "execution_count": null,
   "metadata": {},
   "outputs": [],
   "source": [
    "canada.rename(columns={'OdName':'Country'}, inplace=True)\n",
    "canada.set_index(canada.Country, inplace=True)\n",
    "canada.head()"
   ]
  },
  {
   "cell_type": "code",
   "execution_count": null,
   "metadata": {},
   "outputs": [],
   "source": [
    "canada2 = canada.copy()\n",
    "canada2.head()"
   ]
  },
  {
   "cell_type": "code",
   "execution_count": null,
   "metadata": {},
   "outputs": [],
   "source": [
    "canada.index.name=None\n",
    "canada.head()"
   ]
  },
  {
   "cell_type": "code",
   "execution_count": null,
   "metadata": {},
   "outputs": [],
   "source": [
    "del canada['Country']\n",
    "canada.head()"
   ]
  },
  {
   "cell_type": "code",
   "execution_count": null,
   "metadata": {},
   "outputs": [],
   "source": [
    "canada = canada.transpose()"
   ]
  },
  {
   "cell_type": "code",
   "execution_count": null,
   "metadata": {},
   "outputs": [],
   "source": [
    "canada.head()"
   ]
  },
  {
   "cell_type": "markdown",
   "metadata": {},
   "source": [
    "We can interact with the Plotly API in two ways; \n",
    "\n",
    "+ Plotly Graph Objects lower-level API\n",
    "+ Plotly Express high-level API"
   ]
  },
  {
   "cell_type": "markdown",
   "metadata": {},
   "source": [
    "# Scatter Plot"
   ]
  },
  {
   "cell_type": "code",
   "execution_count": null,
   "metadata": {},
   "outputs": [],
   "source": [
    "#Simple Scatter Plot\n",
    "random_x = np.random.randint(1, 100, 50)\n",
    "random_y = np.random.randint(1, 100, 50)\n",
    "\n",
    "data = [go.Scatter(\n",
    "                    x = random_x,\n",
    "                    y = random_y,\n",
    "                    mode = 'markers'\n",
    "                   )\n",
    "       ]\n",
    "fig = go.Figure(data=data)\n",
    "iplot(fig)"
   ]
  },
  {
   "cell_type": "code",
   "execution_count": null,
   "metadata": {},
   "outputs": [],
   "source": [
    "# Changing Marker size , shape & color using Marker parameter\n",
    "x_val = np.random.randint(1, 100, 50)\n",
    "y_val = np.random.randint(1, 100, 50)\n",
    "\n",
    "data = [go.Scatter(\n",
    "                    x = x_val,\n",
    "                    y = y_val,\n",
    "                    mode = 'markers',\n",
    "                    marker = dict(\n",
    "                                   size = 10, \n",
    "                                   color = '#91bd3a', #color of marker\n",
    "                                   symbol = 'circle', # Shape of scatter plot\n",
    "                                 )\n",
    "                   )\n",
    "       ]\n",
    "fig = go.Figure(data=data)\n",
    "iplot(fig)"
   ]
  },
  {
   "cell_type": "code",
   "execution_count": null,
   "metadata": {},
   "outputs": [],
   "source": [
    "# Defining Labels (X-Axis & Y-Axis label , Graph tile)\n",
    "\n",
    "data = [go.Scatter(\n",
    "                    x = x_val,\n",
    "                    y = y_val,\n",
    "                    mode = 'markers',\n",
    "                    marker = dict(\n",
    "                                  size = 10, \n",
    "                                  color = '#4ED700',\n",
    "                                  symbol = 'circle',\n",
    "                                  line = dict(width = 1, color = '#0E8700')\n",
    "                                  )\n",
    "                  )\n",
    "       ]\n",
    "layout = go.Layout(\n",
    "                    title = '$Scatter Plot$', # Title\n",
    "                    xaxis = dict(title = 'X-Axis'), # x-axis label\n",
    "                    yaxis = dict(title = 'Y-Axis'), # y-axis label\n",
    "                    )\n",
    "fig = go.Figure(data=data, layout=layout)\n",
    "iplot(fig)"
   ]
  },
  {
   "cell_type": "code",
   "execution_count": null,
   "metadata": {},
   "outputs": [],
   "source": [
    "x_values = np.linspace(0, 100, 100) # 100 evenly spaced values\n",
    "y_values = np.random.randn(100)    # 100 random values\n",
    "\n",
    "trace0 = go.Scatter(\n",
    "                    x = x_values,\n",
    "                    y = y_values,\n",
    "                    mode = 'markers',\n",
    "                    marker = dict(\n",
    "                                  size = 7, \n",
    "                                  color = '#F4D03F',\n",
    "                                  symbol = 'circle',\n",
    "                                  line = dict(width = 1, color = '#0E8700')\n",
    "                                  )\n",
    "                    )\n",
    "\n",
    "trace1 = go.Scatter(\n",
    "                    x = x_values,\n",
    "                    y = y_values-5,\n",
    "                    mode = 'markers',\n",
    "                    marker = dict(size = 7, \n",
    "                                  color = '#A9DFBF',\n",
    "                                  symbol = 'circle',\n",
    "                                  line = dict(width = 1,color = '#0E8700')\n",
    "                                 )\n",
    "                    )\n",
    "\n",
    "data = [trace0, trace1]  \n",
    "fig = go.Figure(data=data)\n",
    "iplot(fig)"
   ]
  },
  {
   "cell_type": "code",
   "execution_count": null,
   "metadata": {},
   "outputs": [],
   "source": [
    "insurance.head()"
   ]
  },
  {
   "cell_type": "code",
   "execution_count": null,
   "metadata": {},
   "outputs": [],
   "source": [
    "data = [go.Scatter(\n",
    "                     x = insurance.bmi,\n",
    "                     y = insurance.charges,\n",
    "                     mode = 'markers',\n",
    "                     marker = dict(size = 7, \n",
    "                                   color = '#4ED700',\n",
    "                                   symbol = 'circle',\n",
    "                                   line = dict(width = 1,color = '#0E8700')\n",
    "                                  )\n",
    "                   )\n",
    "       ]\n",
    "\n",
    "layout = go.Layout(\n",
    "                    title = '$Insurance$', # Chart Title, $ change font\n",
    "                    xaxis = dict(title = 'BMI'), # x-axis label\n",
    "                    yaxis = dict(title = 'Charges'), # y-axis label\n",
    "                   )\n",
    "\n",
    "fig = go.Figure(data=data, layout=layout)\n",
    "iplot(fig)"
   ]
  },
  {
   "cell_type": "code",
   "execution_count": null,
   "metadata": {},
   "outputs": [],
   "source": [
    "# trace0 will capture all smokers\n",
    "trace0 = go.Scatter(\n",
    "                      x = insurance[insurance.smoker=='yes'].bmi,\n",
    "                      y = insurance[insurance.smoker=='yes'].charges,\n",
    "                      mode = 'markers',\n",
    "                      name = 'Smoker',\n",
    "                      marker = dict(size=7, color='#F39C12',\n",
    "                                    symbol='circle', line=dict(width = 1))\n",
    "                    )\n",
    "\n",
    "# trace1 will capture all non-smokers\n",
    "trace1 = go.Scatter(\n",
    "                     x = insurance[insurance.smoker=='no'].bmi,\n",
    "                     y = insurance[insurance.smoker=='no'].charges,\n",
    "                     mode = 'markers',\n",
    "                     name = 'Non-Smoker',\n",
    "                     marker = dict(size = 7, color = '#8BC34A',\n",
    "                                   symbol = 'circle',line = dict(width = 1))\n",
    "                    )\n",
    "\n",
    "layout = go.Layout(\n",
    "                    title = '$Scatter Plot$', # Title\n",
    "                    xaxis = dict(title = 'BMI'), # x-axis label\n",
    "                    yaxis = dict(title = 'Charges'), # y-axis label\n",
    "                   )\n",
    "\n",
    "data = [trace0, trace1]  \n",
    "fig = go.Figure(data=data, layout=layout)\n",
    "iplot(fig)"
   ]
  },
  {
   "cell_type": "code",
   "execution_count": null,
   "metadata": {},
   "outputs": [],
   "source": [
    "# Display multiple Scatter plots in one figure using Subplots\n",
    "from plotly.subplots import make_subplots\n",
    "\n",
    "#Subplot initialization\n",
    "fig = make_subplots(\n",
    "                     rows=1, \n",
    "                     cols=2,\n",
    "                     subplot_titles=(\"Subplot-1\", \"Subplot-2\")\n",
    "                   )\n",
    "\n",
    "\n",
    "# Subplot - 1 (Add graph object trace to a figure)\n",
    "fig.add_trace(go.Scatter\n",
    "                  (\n",
    "                    x = x_val,\n",
    "                    y = y_val,\n",
    "                    mode = 'markers',\n",
    "                    marker = dict(size=10, color='crimson', symbol='circle',\n",
    "                                  line=dict(width=1, color='#0E8700'))\n",
    "                  ),\n",
    "              row=1, col=1\n",
    "             )\n",
    "\n",
    "# Add graph object trace to a figure (Subplot-2)\n",
    "fig.add_trace(go.Scatter\n",
    "                  (\n",
    "                    x = x_val,\n",
    "                    y = y_val,\n",
    "                    mode = 'markers',\n",
    "                    marker = dict(size = 10, color = 'gold', symbol = 'circle',\n",
    "                                  line = dict(width = 1))\n",
    "                   ),\n",
    "              row=1, col=2\n",
    "             )\n",
    "\n",
    "fig.show()"
   ]
  },
  {
   "cell_type": "markdown",
   "metadata": {},
   "source": [
    "# Scatter Plot using Plotly Express"
   ]
  },
  {
   "cell_type": "code",
   "execution_count": null,
   "metadata": {},
   "outputs": [],
   "source": [
    "xval = np.random.normal(0, 10, 1000)\n",
    "yval = np.random.normal(0, 10, 1000)\n",
    "\n",
    "fig = px.scatter(x=xval ,y=yval)\n",
    "fig.show()"
   ]
  },
  {
   "cell_type": "code",
   "execution_count": null,
   "metadata": {},
   "outputs": [],
   "source": [
    "fig = px.scatter(\n",
    "                  insurance, \n",
    "                  x=insurance.bmi,\n",
    "                  y= insurance.charges,\n",
    "                  color=\"smoker\", # Show groups with different colors using \"color\" parameter\n",
    "                  size=insurance.charges\n",
    "                )\n",
    "fig.show()"
   ]
  },
  {
   "cell_type": "code",
   "execution_count": null,
   "metadata": {},
   "outputs": [],
   "source": [
    "fig = px.scatter(insurance, \n",
    "                 x=insurance.bmi,\n",
    "                 y= insurance.charges,\n",
    "                 color=\"smoker\",  #  Show groups with different colors using \"color\" parameter\n",
    "                 size=insurance.charges,\n",
    "                 color_discrete_map={\"yes\": \"#FF5722\",\"no\": \"#7CB342\"} #Map colors to data values\n",
    "                )\n",
    "fig.show()"
   ]
  },
  {
   "cell_type": "code",
   "execution_count": null,
   "metadata": {},
   "outputs": [],
   "source": [
    "# Using facet_col arguments to create Sub plots\n",
    "fig = px.scatter(insurance, \n",
    "                 x=insurance.bmi, \n",
    "                 y=insurance.charges, \n",
    "                 color=insurance.smoker,\n",
    "                 facet_col=insurance.region, # Using facet_col arguments to create Sub plots\n",
    "                 color_discrete_map={\"yes\": \"#FF5722\",\"no\": \"#7CB342\"},\n",
    "                 title=\"Insurance Data\"\n",
    "                )\n",
    "\n",
    "fig.show()"
   ]
  },
  {
   "cell_type": "markdown",
   "metadata": {},
   "source": [
    "# Line Plot"
   ]
  },
  {
   "cell_type": "code",
   "execution_count": null,
   "metadata": {},
   "outputs": [],
   "source": [
    "x_values = np.linspace(0, 100, 100) # 100 evenly spaced values\n",
    "y_values = np.random.randn(100)   # 100 random values"
   ]
  },
  {
   "cell_type": "code",
   "execution_count": null,
   "metadata": {},
   "outputs": [],
   "source": [
    "# create traces\n",
    "trace0 = go.Scatter(\n",
    "                    x = x_values,\n",
    "                    y = y_values,\n",
    "                    mode = 'lines',\n",
    "                    )\n",
    " \n",
    "fig = go.Figure(data=trace0)\n",
    "fig.show()"
   ]
  },
  {
   "cell_type": "code",
   "execution_count": null,
   "metadata": {},
   "outputs": [],
   "source": [
    "#Line Styling\n",
    "trace0 = go.Scatter(\n",
    "                    x=x_values,\n",
    "                    y=y_values,\n",
    "                    mode='lines+markers',\n",
    "                    )\n",
    "\n",
    "trace1 = go.Scatter(\n",
    "                    x=x_values,\n",
    "                    y=y_values-5,\n",
    "                    mode='lines',\n",
    "                    )\n",
    "\n",
    "data = [trace0, trace1]  \n",
    "fig = go.Figure(data=data)\n",
    "iplot(fig)"
   ]
  },
  {
   "cell_type": "code",
   "execution_count": null,
   "metadata": {},
   "outputs": [],
   "source": [
    "canada.head()"
   ]
  },
  {
   "cell_type": "code",
   "execution_count": null,
   "metadata": {},
   "outputs": [],
   "source": [
    "canada.index.values"
   ]
  },
  {
   "cell_type": "code",
   "execution_count": null,
   "metadata": {},
   "outputs": [],
   "source": [
    "# Plot Immigrants from China\n",
    "china = go.Scatter(\n",
    "                    x = canada.index.values,\n",
    "                    y = canada['China'],\n",
    "                    mode = 'lines',\n",
    "                    name = 'China'\n",
    "                   )\n",
    "\n",
    "#Plot Immigrants from India\n",
    "india = go.Scatter(\n",
    "                    x = canada.index.values,\n",
    "                    y = canada['India'],\n",
    "                    mode = 'lines',\n",
    "                    name = 'India'\n",
    "                  )\n",
    "\n",
    "#Plot Immigrants from Pakistan\n",
    "pakistan = go.Scatter(\n",
    "                        x = canada.index.values,\n",
    "                        y = canada['Pakistan'],\n",
    "                        mode = 'lines',\n",
    "                        name = 'Pakistan'\n",
    "                     )\n",
    "\n",
    "# Layout setting\n",
    "layout = go.Layout(\n",
    "                    title = '$Immigrants$', # Title\n",
    "                    xaxis = dict(title = 'Year'), # x-axis label\n",
    "                    yaxis = dict(title = 'Number of Immigrants'), # y-axis label\n",
    "     \n",
    "                  )\n",
    "\n",
    "data = [china, india, pakistan]  \n",
    "fig = go.Figure(data=data, layout=layout)\n",
    "iplot(fig)"
   ]
  },
  {
   "cell_type": "code",
   "execution_count": null,
   "metadata": {},
   "outputs": [],
   "source": [
    "# Plot Immigrants from China\n",
    "china = go.Scatter(\n",
    "                    x=canada.index.values,\n",
    "                    y=canada['China'],\n",
    "                    mode='lines',\n",
    "                    name='China'\n",
    "                  )\n",
    "\n",
    "# Plot Immigrants from India\n",
    "india = go.Scatter(\n",
    "                    x = canada.index.values,\n",
    "                    y = canada['India'],\n",
    "                    mode = 'lines',\n",
    "                    name = 'India'\n",
    "                   )\n",
    "\n",
    "# Plot Immigrants from Pakistan\n",
    "pakistan = go.Scatter(\n",
    "                        x = canada.index.values,\n",
    "                        y = canada['Pakistan'],\n",
    "                        mode = 'lines',\n",
    "                        name = 'Pakistan'\n",
    "                     )\n",
    "\n",
    "\n",
    "layout = go.Layout(\n",
    "                    title=dict(text = \"Immigration Data\", x=0.5, y=0.95),\n",
    "                    xaxis = dict(title = 'Year'), # x-axis label\n",
    "                    yaxis = dict(title = 'Number of Immigrants'), # y-axis label\n",
    "                    paper_bgcolor= 'yellow', #'#FFFDE7'\n",
    "                    plot_bgcolor= 'white'\n",
    "                  )\n",
    "\n",
    "data = [china, india, pakistan]  \n",
    "fig = go.Figure(data=data, layout=layout)\n",
    "iplot(fig)"
   ]
  },
  {
   "cell_type": "code",
   "execution_count": null,
   "metadata": {},
   "outputs": [],
   "source": [
    "canada1 = canada.copy()\n",
    "del canada1['Unknown']\n",
    "del canada1['Total']\n",
    "canada1.head()"
   ]
  },
  {
   "cell_type": "code",
   "execution_count": null,
   "metadata": {},
   "outputs": [],
   "source": [
    "#Immigrants from all countires using for loop\n",
    "traces = [] # Initiate trace\n",
    "for i in canada1.columns:\n",
    "    traces.append(\n",
    "        go.Scatter(\n",
    "                     x=canada1.index.values,\n",
    "                     y=canada1[i],\n",
    "                     mode='lines',\n",
    "                     name = i,\n",
    "                     connectgaps=True,#Determines whether or not gaps (i.e. {nan} or missingvalues) in the provided data arrays are connected.\n",
    "                   )\n",
    "                  ) \n",
    "    \n",
    "layout = go.Layout(\n",
    "                    title='Immigrants', # Title\n",
    "                    title_font=dict(size=20),\n",
    "                    xaxis=dict(title='Year'), # x-axis label\n",
    "                    yaxis=dict(title='Number of Immigrants'), # y-axis label\n",
    "                    font=dict(size=10),\n",
    "                    width=1230,\n",
    "                    height=650\n",
    "                   )\n",
    "\n",
    "fig = go.Figure(data=traces, layout=layout)\n",
    "fig.show()"
   ]
  },
  {
   "cell_type": "code",
   "execution_count": null,
   "metadata": {},
   "outputs": [],
   "source": [
    "#Subplot initialization\n",
    "fig = make_subplots(\n",
    "                     rows=1, \n",
    "                     cols=2,\n",
    "                     subplot_titles=(\"Immigration Data\", \"Insurance Data\")\n",
    "                   )\n",
    "\n",
    "# Subplot - 1 (Add graph object trace to a figure)\n",
    "fig.add_trace(go.Scatter(\n",
    "                         x = canada.index.values,\n",
    "                         y = canada['China'],\n",
    "                         mode = 'lines',\n",
    "                         name = 'China'\n",
    "                         ),\n",
    "              row=1, col=1\n",
    "             )\n",
    "\n",
    "# Add graph object trace to a figure\n",
    "fig.add_trace(go.Scatter(\n",
    "                         x = canada.index.values,\n",
    "                         y = canada['India'],\n",
    "                         mode = 'lines',\n",
    "                         name = 'India'\n",
    "                        ),\n",
    "              row=1, col=1\n",
    "             )\n",
    "\n",
    "# Add graph object trace to a figure\n",
    "fig.add_trace(go.Scatter(\n",
    "                         x = canada.index.values,\n",
    "                         y = canada['Pakistan'],\n",
    "                         mode = 'lines',\n",
    "                         name = 'Pakistan'\n",
    "                        ),\n",
    "              row=1, col=1\n",
    "             )\n",
    "\n",
    "# Subplot - 2 (Add graph object trace to a figure)\n",
    "fig.add_trace(go.Scatter(\n",
    "                            x = insurance[insurance.smoker=='yes'].bmi,\n",
    "                            y = insurance[insurance.smoker=='yes'].charges,\n",
    "                            mode = 'markers',\n",
    "                            name = 'Smoker',\n",
    "                            marker = dict(size=7, color='#F39C12',\n",
    "                                          symbol='circle', line=dict(width=1))\n",
    "                        ), \n",
    "              row=1, col=2\n",
    "             )\n",
    "\n",
    "# Add graph object trace to a figure\n",
    "fig.add_trace(go.Scatter(\n",
    "                            x = insurance[insurance.smoker=='no'].bmi,\n",
    "                            y = insurance[insurance.smoker=='no'].charges,\n",
    "                            mode = 'markers',\n",
    "                            name = 'Non-Smoker',\n",
    "                            marker = dict(size=7, color='#8BC34A',\n",
    "                                          symbol='circle', line=dict(width=1))\n",
    "                        ), \n",
    "              row=1, col=2\n",
    "             )\n",
    "\n",
    "# Changing X & Y Axis properties\n",
    "fig.update_xaxes(title_text=\"Year\", row=1, col=1)\n",
    "fig.update_yaxes(title_text=\"Number of Immigrants\", row=1, col=1)\n",
    "fig.update_xaxes(title_text=\"BMI\" ,row=1, col=2)\n",
    "fig.update_yaxes(title_text=\"Charges\", row=1, col=2)\n",
    "\n",
    "#Changing plot & figure background \n",
    "fig.update_layout(\n",
    "                    paper_bgcolor= '#FFFDE7',\n",
    "                    plot_bgcolor= '#FFFDE7',\n",
    "                    title=dict(text = \"Sub Plots\", x=0.5, y=0.95),\n",
    "                    title_font_size=30\n",
    "                  )\n",
    "fig.show()"
   ]
  },
  {
   "cell_type": "markdown",
   "metadata": {},
   "source": [
    "# Line Plot using Plotly Express"
   ]
  },
  {
   "cell_type": "code",
   "execution_count": null,
   "metadata": {},
   "outputs": [],
   "source": [
    "col1 = np.linspace(0, 10, 1000)\n",
    "col2 = np.sin(col1)\n",
    "\n",
    "fig = px.line(\n",
    "              x=col1,\n",
    "              y= col2,\n",
    "              title=\"Sine Plot\"\n",
    "             )\n",
    "fig.show()"
   ]
  },
  {
   "cell_type": "code",
   "execution_count": null,
   "metadata": {},
   "outputs": [],
   "source": [
    "fig = px.line(\n",
    "              x=col1,\n",
    "              y=col2\n",
    "             )\n",
    "\n",
    "fig.add_scatter(x=col1,\n",
    "                y=col2+1\n",
    "               )\n",
    "fig.show()"
   ]
  },
  {
   "cell_type": "code",
   "execution_count": null,
   "metadata": {},
   "outputs": [],
   "source": [
    "# Plot Immigrants from India\n",
    "fig = px.line(\n",
    "              x=canada1.index.values,\n",
    "              y=canada1['India']\n",
    "             )\n",
    "\n",
    "# Plot Immigrants from Pakistan\n",
    "fig.add_scatter(\n",
    "                 x=canada1.index.values,\n",
    "                 y= canada1['Pakistan'], \n",
    "                 name = 'Pakistan',\n",
    "                 line={'color': 'green'}\n",
    "               )\n",
    "\n",
    "# Plot Immigrants from Bangladesh\n",
    "fig.add_scatter(\n",
    "                 x=canada1.index.values,\n",
    "                 y= canada1['Bangladesh'] , \n",
    "                 name = 'Bangladesh', \n",
    "                 line={'color': 'red'}\n",
    "               )\n",
    "\n",
    "fig.update_layout(title_text='Immigrants')\n",
    "fig.show()"
   ]
  },
  {
   "cell_type": "code",
   "execution_count": null,
   "metadata": {},
   "outputs": [],
   "source": [
    "employment[[\"Period\", \"Unemployed\"]]"
   ]
  },
  {
   "cell_type": "code",
   "execution_count": null,
   "metadata": {},
   "outputs": [],
   "source": [
    "fig = px.line(\n",
    "              employment, \n",
    "              x=\"Period\" , \n",
    "              y=\"Unemployed\",\n",
    "              color='Gender'\n",
    "             )\n",
    "\n",
    "# Hide grid lines\n",
    "fig.update_xaxes(showgrid=False)\n",
    "fig.update_yaxes(showgrid=False)\n",
    "\n",
    "fig.show()"
   ]
  },
  {
   "cell_type": "markdown",
   "metadata": {},
   "source": [
    "# Bar Plot"
   ]
  },
  {
   "cell_type": "code",
   "execution_count": null,
   "metadata": {},
   "outputs": [],
   "source": [
    "# Use go.Bar to plot Bar charts in Plotly\n",
    "x = np.arange(1, 10)\n",
    "y = np.arange(20, 110, 10)"
   ]
  },
  {
   "cell_type": "code",
   "execution_count": null,
   "metadata": {},
   "outputs": [],
   "source": [
    "data = go.Bar(\n",
    "             x=x,\n",
    "             y=y,\n",
    "             )\n",
    "\n",
    "layout = go.Layout(\n",
    "                  title='Simple Bar Chart'\n",
    "                  )\n",
    "\n",
    "fig = go.Figure(data=data, layout=layout)\n",
    "fig.show()"
   ]
  },
  {
   "cell_type": "code",
   "execution_count": null,
   "metadata": {},
   "outputs": [],
   "source": [
    "#Changing color of Bar plot\n",
    "x = np.arange(1, 12)\n",
    "y = np.arange(20, 130, 10)\n",
    "\n",
    "data = go.Bar(\n",
    "             x=x,\n",
    "             y=y,\n",
    "             marker={'color':'#FFA726'} # changing color of bar plot\n",
    "             )\n",
    "\n",
    "layout = go.Layout(\n",
    "                  title = 'Simple Bar Chart',\n",
    "                  width=970,\n",
    "                  height=650\n",
    "                  )\n",
    "\n",
    "fig = go.Figure(data=data, layout=layout)\n",
    "fig.show()"
   ]
  },
  {
   "cell_type": "code",
   "execution_count": null,
   "metadata": {},
   "outputs": [],
   "source": [
    "data = go.Bar(\n",
    "             x=x,\n",
    "             y=y,\n",
    "             marker_color='#FFA726', \n",
    "             marker_line_color='#A04000', \n",
    "             marker_line_width=2,\n",
    "             opacity = 0.7\n",
    "             )\n",
    "\n",
    "layout = go.Layout(\n",
    "                  title='Simple Bar Chart',\n",
    "                  width=970,\n",
    "                  height=650\n",
    "                  )\n",
    "\n",
    "fig = go.Figure(data=data, layout=layout)\n",
    "fig.show()"
   ]
  },
  {
   "cell_type": "code",
   "execution_count": null,
   "metadata": {},
   "outputs": [],
   "source": [
    "# Simple Horizontal Bar Plot (Using orientation='h')\n",
    "data = go.Bar(\n",
    "             x=y,\n",
    "             y=x,\n",
    "             marker={'color':'#FFA726'},\n",
    "             orientation='h'\n",
    "             )\n",
    "\n",
    "layout = go.Layout(\n",
    "                  title='Simple Bar Chart',\n",
    "                  width=970,\n",
    "                  height=650\n",
    "                  )\n",
    "\n",
    "fig = go.Figure(data=data, layout=layout)\n",
    "fig.show()"
   ]
  },
  {
   "cell_type": "code",
   "execution_count": null,
   "metadata": {},
   "outputs": [],
   "source": [
    "x1= [1,3,5,7] \n",
    "x2=[2,4,6,8]\n",
    "y1 = [7,7,7,7]\n",
    "y2= [17,18,29,40]\n",
    "\n",
    "trace0 = go.Bar(\n",
    "             x=x1,\n",
    "             y=y1,\n",
    "             marker=dict(color='#FFA726')\n",
    "             )\n",
    "\n",
    "trace1 = go.Bar(\n",
    "             x=x2,\n",
    "             y=y2,\n",
    "             marker={'color':'#94E413'}\n",
    "             )\n",
    "\n",
    "data = [trace0, trace1]\n",
    "fig = go.Figure(data=data)\n",
    "fig.show()"
   ]
  },
  {
   "cell_type": "markdown",
   "metadata": {},
   "source": [
    "# Stacked Vertical Bar"
   ]
  },
  {
   "cell_type": "code",
   "execution_count": null,
   "metadata": {},
   "outputs": [],
   "source": [
    "x = ['Asif', 'Basit', 'John', 'Batista', 'Gabriel', 'Paul', 'Ravi'] \n",
    "y1 = [17, 18, 29, 33, 38, 39, 42]\n",
    "y2 = [20, 21, 22, 23, 21, 28, 25]\n",
    "y3 = [5, 13, 11, 12, 13, 11, 16]\n",
    "\n",
    "trace0 = go.Bar(\n",
    "                 x=x,\n",
    "                 y=y1,\n",
    "                 marker=dict(color='#FF6F00'),\n",
    "                 name='Open Tickets'\n",
    "               )\n",
    "\n",
    "trace1 = go.Bar(\n",
    "                 x=x,\n",
    "                 y=y2,\n",
    "                 marker={'color':'#FFB300'},\n",
    "                 name='Closed Tickets'\n",
    "               )    \n",
    "\n",
    "trace2 = go.Bar(\n",
    "                 x=x,\n",
    "                 y=y3,\n",
    "                 marker={'color':'#F7DC6F'},\n",
    "                 name ='Cancelled Tickets'\n",
    "               )  \n",
    "    \n",
    "layout = go.Layout(\n",
    "                   title='Open Tickets by Status', \n",
    "                   barmode='stack',# With \"stack\", the bars are stacked on top of one another\n",
    "                   width=900,\n",
    "                   height=800\n",
    "                  )\n",
    "\n",
    "data = [trace0, trace1, trace2]\n",
    "fig = go.Figure(data=data, layout=layout)\n",
    "fig.show()"
   ]
  },
  {
   "cell_type": "markdown",
   "metadata": {},
   "source": [
    "# Stacked Horizontal Bar"
   ]
  },
  {
   "cell_type": "code",
   "execution_count": null,
   "metadata": {},
   "outputs": [],
   "source": [
    "trace0 = go.Bar(\n",
    "                 x=y1,\n",
    "                 y=x,\n",
    "                 marker=dict(color='#FF6F00'),\n",
    "                 name='Open Tickets',\n",
    "                 orientation='h',\n",
    "                 text=y1,\n",
    "                 textposition='auto'           \n",
    "                )\n",
    "\n",
    "trace1 = go.Bar(\n",
    "                 x=y2,\n",
    "                 y=x,\n",
    "                 marker={'color':'#FFB300'},\n",
    "                 name='Closed Tickets',\n",
    "                 orientation='h',\n",
    "                 text=y2,\n",
    "                 textposition='auto'  \n",
    "                )    \n",
    "\n",
    "\n",
    "trace2 = go.Bar(\n",
    "                 x=y3,\n",
    "                 y=x,\n",
    "                 marker={'color':'#F7DC6F'},\n",
    "                 name='Cancelled Tickets',\n",
    "                 orientation='h',\n",
    "                 text=y3,\n",
    "                 textposition='auto'  \n",
    "                )  \n",
    "    \n",
    "layout = go.Layout(\n",
    "                   title='Open Tickets by Status' , \n",
    "                   barmode='stack',\n",
    "                   width=990,\n",
    "                   height=550\n",
    "                  )\n",
    "\n",
    "data = [trace0, trace1, trace2]\n",
    "fig = go.Figure(data=data, layout=layout)\n",
    "fig.show()"
   ]
  },
  {
   "cell_type": "code",
   "execution_count": null,
   "metadata": {},
   "outputs": [],
   "source": [
    "trace0 = go.Bar(\n",
    "                 x=y1,\n",
    "                 y=x,\n",
    "                 marker=dict(color='#FF9800',line=dict(color='#F4511E',width=2)),\n",
    "                 name='Open Tickets',\n",
    "                 orientation='h',\n",
    "                 text=y1,\n",
    "                 textposition='auto',\n",
    "                 opacity=0.8,\n",
    "                )\n",
    "\n",
    "trace1 = go.Bar(\n",
    "                 x=y2,\n",
    "                 y=x,\n",
    "                 marker=dict(color ='#7CB342',line=dict(color='#2E7D32', width=2)),\n",
    "                 name='Closed Tickets',\n",
    "                 orientation='h',\n",
    "                 text=y2,\n",
    "                 textposition='auto',\n",
    "                 opacity=0.8,   \n",
    "               )    \n",
    "\n",
    "trace2 = go.Bar(\n",
    "                 x=y3,\n",
    "                 y=x,\n",
    "                 marker=dict(color ='#1E88E5',line=dict(color='#3F51B5', width=2)),\n",
    "                 name ='Cancelled Tickets',\n",
    "                 orientation='h',\n",
    "                 text=y3,\n",
    "                 textposition='auto',\n",
    "                 opacity=0.7,   \n",
    "               )  \n",
    "    \n",
    "layout = go.Layout(\n",
    "                   title='Open Tickets by Status', \n",
    "                   barmode='stack',\n",
    "                   width=990,\n",
    "                   height=600\n",
    "                  )\n",
    "\n",
    "data = [trace0, trace1, trace2]\n",
    "fig = go.Figure(data=data, layout=layout)\n",
    "fig.show()"
   ]
  },
  {
   "cell_type": "markdown",
   "metadata": {},
   "source": [
    "# Grouped Bar Chart"
   ]
  },
  {
   "cell_type": "code",
   "execution_count": null,
   "metadata": {},
   "outputs": [],
   "source": [
    "trace0 = go.Bar(\n",
    "                 x=x,\n",
    "                 y=y1,\n",
    "                 marker=dict(color ='#FF6F00'),\n",
    "                 name='Open Tickets',\n",
    "               )\n",
    "\n",
    "trace1 = go.Bar(\n",
    "                 x=x,\n",
    "                 y=y2,\n",
    "                 marker={'color':'#FFB300'},\n",
    "                 name='Closed Tickets'\n",
    "               )    \n",
    "\n",
    "trace2 = go.Bar(\n",
    "                 x=x,\n",
    "                 y=y3,\n",
    "                 marker={'color' : '#F7DC6F'},\n",
    "                 name='Cancelled Tickets'\n",
    "               )  \n",
    "    \n",
    "layout = go.Layout(\n",
    "                   title='Open Tickets by Status', \n",
    "                   width=980,\n",
    "                   height=800\n",
    "                  )\n",
    "\n",
    "data = [trace0, trace1, trace2]\n",
    "fig = go.Figure(data=data, layout=layout)\n",
    "fig.show()"
   ]
  },
  {
   "cell_type": "code",
   "execution_count": null,
   "metadata": {},
   "outputs": [],
   "source": [
    "# Grouped Bar Chart with values displayed outside the bar (Using  textposition='outside')\n",
    "trace0 = go.Bar(\n",
    "                 x=x,\n",
    "                 y=y1,\n",
    "                 marker=dict(color='#FF6F00'),\n",
    "                 name='Open Tickets',\n",
    "                 text=y1,\n",
    "                 textposition='outside'\n",
    "               )\n",
    "\n",
    "trace1 = go.Bar(\n",
    "                 x=x,\n",
    "                 y=y2,\n",
    "                 marker={'color' : '#FFB300'},\n",
    "                 name='Closed Tickets',\n",
    "                 text=y2,\n",
    "                 textposition='outside'\n",
    "              )    \n",
    "\n",
    "trace2 = go.Bar(\n",
    "                 x=x,\n",
    "                 y=y3,\n",
    "                 marker={'color':'#F7DC6F'},\n",
    "                 name='Cancelled Tickets',\n",
    "                 text=y3,\n",
    "                 textposition='outside'\n",
    "                )  \n",
    "    \n",
    "layout = go.Layout(\n",
    "                   title='Open Tickets by Status', \n",
    "                   barmode='group',\n",
    "                   width=900,\n",
    "                   height=800,\n",
    "                   xaxis_tickangle=-45\n",
    "                  )\n",
    "\n",
    "data = [trace0, trace1, trace2]\n",
    "fig = go.Figure(data=data, layout=layout)\n",
    "fig.show()"
   ]
  },
  {
   "cell_type": "markdown",
   "metadata": {},
   "source": [
    "# Bar Plot using Plotly Express"
   ]
  },
  {
   "cell_type": "code",
   "execution_count": null,
   "metadata": {},
   "outputs": [],
   "source": [
    "#Simple Bar plot using px.bar\n",
    "x = np.arange(1, 10)\n",
    "y = np.arange(20, 110, 10)\n",
    "fig = px.bar(x=x, y=y)\n",
    "fig.show()"
   ]
  },
  {
   "cell_type": "code",
   "execution_count": null,
   "metadata": {},
   "outputs": [],
   "source": [
    "fig = px.bar(x=x, y=y, color=y)\n",
    "fig.layout.title.text = \"Bar Plot - Plotly Express\"\n",
    "fig.show()"
   ]
  },
  {
   "cell_type": "code",
   "execution_count": null,
   "metadata": {},
   "outputs": [],
   "source": [
    "fig = px.bar(x=x, y=y, color=y, text=y)\n",
    "fig.layout.title.text = \"Bar Plot - Plotly Express\"\n",
    "fig.update_traces(textposition='outside')\n",
    "fig.show()"
   ]
  },
  {
   "cell_type": "markdown",
   "metadata": {},
   "source": [
    "# Pie & Donut Chart"
   ]
  },
  {
   "cell_type": "code",
   "execution_count": null,
   "metadata": {},
   "outputs": [],
   "source": [
    "#Simple Pie Chart\n",
    "tickets = [48, 30, 20, 15]\n",
    "status = ['Low', 'Medium', 'High', 'Critical']\n",
    "\n",
    "data = go.Pie(\n",
    "              values=tickets,\n",
    "              labels=status,\n",
    "             )\n",
    "\n",
    "layout = go.Layout(\n",
    "                   title=dict(text=\"Tickets by Priority\",\n",
    "                              x=0.46, y=0.95, font_size=20)\n",
    "                  )\n",
    "\n",
    "fig = go.Figure(data=data, layout=layout)\n",
    "fig.show()"
   ]
  },
  {
   "cell_type": "code",
   "execution_count": null,
   "metadata": {},
   "outputs": [],
   "source": [
    "#Changing color of Pie Chart\n",
    "colors = ['#8BC34A', '#D4E157', '#FFB300', '#FF7043']\n",
    "data = go.Pie(\n",
    "              values=tickets,\n",
    "              labels=status,\n",
    "              marker=dict(colors=colors)\n",
    "              )\n",
    "\n",
    "layout = go.Layout(\n",
    "                   title=dict(text=\"Tickets by Priority\",\n",
    "                              x=0.46, y=0.95, font_size=20),\n",
    "                   width=800,\n",
    "                   height=650\n",
    "                  )\n",
    "\n",
    "fig = go.Figure(data=data, layout=layout)\n",
    "fig.show()"
   ]
  },
  {
   "cell_type": "code",
   "execution_count": null,
   "metadata": {},
   "outputs": [],
   "source": [
    "# Displaying Label , Value & percent in Pie Chart using \"textinfo\" parameter\n",
    "data = go.Pie(\n",
    "              values=tickets,\n",
    "              labels=status,\n",
    "              marker=dict(colors=colors),\n",
    "              textinfo='label+value+percent'\n",
    "              )\n",
    "\n",
    "layout = go.Layout(\n",
    "                   title=dict(text = \"Tickets by Priority\",\n",
    "                              x=0.46, y=0.95, font_size=20),\n",
    "                   width=800,\n",
    "                   height=650\n",
    "                  )\n",
    "\n",
    "fig = go.Figure(data=data, layout=layout)\n",
    "fig.show()"
   ]
  },
  {
   "cell_type": "code",
   "execution_count": null,
   "metadata": {},
   "outputs": [],
   "source": [
    "# Changing label orientation using \"insidetextorientation\" paramter\n",
    "data = go.Pie(\n",
    "              values=tickets,\n",
    "              labels=status,\n",
    "              marker=dict(colors=colors, line=dict(color='#797D7F', width=1.5)),\n",
    "              textinfo='percent',\n",
    "              hoverinfo='label+value',\n",
    "              textfont_size=15,\n",
    "              insidetextorientation='radial'\n",
    "              )\n",
    "\n",
    "layout = go.Layout(\n",
    "                   title=dict(text=\"Tickets by Priority\",\n",
    "                              x=0.46, y=0.95, font_size=20),\n",
    "                   width=800,\n",
    "                   height=650\n",
    "                  )\n",
    "\n",
    "fig = go.Figure(data=data, layout=layout)\n",
    "fig.show()"
   ]
  },
  {
   "cell_type": "code",
   "execution_count": null,
   "metadata": {},
   "outputs": [],
   "source": [
    "#Explode 4th Slice using \"pull\" parameter\n",
    "data = go.Pie(\n",
    "              values=tickets,\n",
    "              labels=status,\n",
    "              marker=dict(colors=colors),\n",
    "              textinfo='label+value+percent',\n",
    "              pull=[0, 0, 0, 0.15] #Explode 4th Slice\n",
    "              )\n",
    "\n",
    "layout = go.Layout(\n",
    "                   title=dict(text = \"Tickets by Priority\",\n",
    "                              x=0.46, y=0.95, font_size=20),\n",
    "                   width=800,\n",
    "                   height=650\n",
    "                  )\n",
    "\n",
    "fig = go.Figure(data=data, layout=layout)\n",
    "fig.show()"
   ]
  },
  {
   "cell_type": "code",
   "execution_count": null,
   "metadata": {},
   "outputs": [],
   "source": [
    "#Explode 3rd & 4th Slice using \"pull\" parameter\n",
    "data = go.Pie(\n",
    "              values=tickets,\n",
    "              labels=status,\n",
    "              marker=dict(colors=colors),\n",
    "              textinfo='label+value+percent',\n",
    "              pull=[0, 0, 0.2, 0.2]\n",
    "              )\n",
    "\n",
    "layout = go.Layout(\n",
    "                   title=dict(text = \"Tickets by Priority\",\n",
    "                              x=0.46, y=0.95, font_size=20),\n",
    "                   width=800,\n",
    "                   height=650\n",
    "                  )\n",
    "\n",
    "fig = go.Figure(data=data, layout=layout)\n",
    "fig.show()"
   ]
  },
  {
   "cell_type": "code",
   "execution_count": null,
   "metadata": {},
   "outputs": [],
   "source": [
    "# Simple Donut Chart\n",
    "data = go.Pie(\n",
    "              values=tickets,\n",
    "              labels=status,\n",
    "              marker=dict(colors=colors),\n",
    "              textinfo='label+value+percent',\n",
    "              hole=.3\n",
    "              )\n",
    "\n",
    "layout = go.Layout(\n",
    "                   title=dict(text = \"Tickets by Priority\",\n",
    "                              x=0.46, y=0.95, font_size=20),\n",
    "                   width=800,\n",
    "                   height=650\n",
    "                  )\n",
    "\n",
    "fig = go.Figure(data=data, layout=layout)\n",
    "fig.show()"
   ]
  },
  {
   "cell_type": "code",
   "execution_count": null,
   "metadata": {},
   "outputs": [],
   "source": [
    "#Explode 4th Slice using \"pull\" parameter\n",
    "data = go.Pie(\n",
    "              values=tickets,\n",
    "              labels=status,\n",
    "              marker=dict(colors=colors),\n",
    "              textinfo='label+value+percent',\n",
    "              hole=.4,\n",
    "              pull=[0, 0, 0, 0.2]\n",
    "              )\n",
    "\n",
    "layout = go.Layout(\n",
    "                   title=dict(text = \"Tickets by Priority\",\n",
    "                              x=0.46, y=0.95, font_size=20),\n",
    "                   width=800,\n",
    "                   height=650\n",
    "                  )\n",
    "\n",
    "fig = go.Figure(data=data, layout=layout)\n",
    "fig.show()"
   ]
  },
  {
   "cell_type": "code",
   "execution_count": null,
   "metadata": {},
   "outputs": [],
   "source": [
    "employment.head()"
   ]
  },
  {
   "cell_type": "code",
   "execution_count": null,
   "metadata": {},
   "outputs": [],
   "source": [
    "data = go.Pie(\n",
    "              values=employment.Unemployed,\n",
    "              labels=employment.Age,\n",
    "              textinfo='percent',\n",
    "              hoverinfo='label+value'\n",
    "              )\n",
    "\n",
    "layout = go.Layout(\n",
    "                   title=dict(text = \"Unemployment Data\",\n",
    "                              x=0.44, y=0.95, font_size=20),\n",
    "                   width=800,\n",
    "                   height=650\n",
    "                  )\n",
    "\n",
    "fig = go.Figure(data=data, layout=layout)\n",
    "fig.show()"
   ]
  },
  {
   "cell_type": "code",
   "execution_count": null,
   "metadata": {},
   "outputs": [],
   "source": [
    "suicide.head()"
   ]
  },
  {
   "cell_type": "code",
   "execution_count": null,
   "metadata": {},
   "outputs": [],
   "source": [
    "data = go.Pie(\n",
    "              values=suicide['suicides_no'],\n",
    "              labels=suicide['age'],\n",
    "              textinfo='percent',\n",
    "              hoverinfo='label+value'\n",
    "              )\n",
    "\n",
    "layout = go.Layout(\n",
    "                   title=dict(text=\"Suicide Data\",\n",
    "                              x=0.44, y=0.95, font_size=20),\n",
    "                   width=800,\n",
    "                   height=650\n",
    "                  )\n",
    "\n",
    "fig = go.Figure(data=data, layout=layout)\n",
    "fig.show() "
   ]
  },
  {
   "cell_type": "code",
   "execution_count": null,
   "metadata": {},
   "outputs": [],
   "source": [
    "# Display multiple Pie plots in one figure using Subplots\n",
    "tickets = [48, 30, 20, 15]\n",
    "status = ['Low', 'Medium', 'High', 'Critical']\n",
    "colors = ['#8BC34A', '#D4E157', '#FFB300', '#FF7043']\n",
    "\n",
    "Assignee = ['Asif', 'Basit', 'John', 'Batista', 'Gabriel', 'Paul', 'Ravi'] \n",
    "Open = [17, 18, 29, 33, 38, 39, 42]\n",
    "\n",
    "#Subplot initialization\n",
    "fig = make_subplots(\n",
    "                     rows=1, \n",
    "                     cols=2,\n",
    "                     subplot_titles=(\"Tickets by Priority\", \"Tickets by Assignee\"),\n",
    "                     specs=[[{'type':'domain'}, {'type':'domain'}]]\n",
    "                   )\n",
    "\n",
    "# Subplot - 1 \n",
    "fig.add_trace(go.Pie(\n",
    "                     values=tickets,\n",
    "                     labels=status,\n",
    "                     marker=dict(colors=colors),\n",
    "                     textinfo='label+value+percent'\n",
    "                    ),\n",
    "               row=1, col=1\n",
    "              )\n",
    "\n",
    "fig.add_trace(go.Pie(\n",
    "                     values=Open,\n",
    "                     labels=Assignee,\n",
    "                     marker=dict(colors=colors),\n",
    "                     textinfo='label+value+percent'\n",
    "                    ),\n",
    "              row=1, col=2\n",
    "             )\n",
    "\n",
    "fig.update_layout(\n",
    "                    paper_bgcolor='#FFFDE7',\n",
    "                    plot_bgcolor='#318D85',\n",
    "                    title=dict(text=\"Help Desk\", x=0.5, y=0.95),\n",
    "                    title_font_size=30\n",
    "                  )\n",
    "fig.show()"
   ]
  },
  {
   "cell_type": "code",
   "execution_count": null,
   "metadata": {},
   "outputs": [],
   "source": [
    "# Display multiple Donut charts in one figure using Subplots\n",
    "fig = make_subplots(\n",
    "                     rows=1, \n",
    "                     cols=2,\n",
    "                     subplot_titles=(\"Tickets by Priority\", \"Tickets by Assignee\"),                     \n",
    "                     specs=[[{'type':'domain'}, {'type':'domain'}]]\n",
    "                   )\n",
    "# Subplot - 1\n",
    "fig.add_trace(go.Pie(\n",
    "                     values=tickets,\n",
    "                     labels=status,\n",
    "                     hole=.4,\n",
    "                     marker=dict(colors=colors),\n",
    "                     textinfo='label+value+percent',\n",
    "                     hoverinfo='label'\n",
    "                    ),\n",
    "              row=1, col=1\n",
    "             )\n",
    "\n",
    "fig.add_trace(go.Pie(\n",
    "                     values=Open,\n",
    "                     labels=Assignee,\n",
    "                     hole=.4,\n",
    "                     marker=dict(colors=colors),\n",
    "                     textinfo='label+value+percent',\n",
    "                     hoverinfo='label'\n",
    "                    ),\n",
    "              row=1, col=2\n",
    "             )\n",
    "\n",
    "fig.update_layout(\n",
    "                    paper_bgcolor='#FFFDE7',\n",
    "                    plot_bgcolor='#FFFDE7',\n",
    "                    title=dict(text=\"Help Desk\", x=0.5, y=0.95),\n",
    "                    title_font_size=30\n",
    "                  )\n",
    "fig.show()"
   ]
  },
  {
   "cell_type": "markdown",
   "metadata": {},
   "source": [
    "# Pie Chart using Plotly Express"
   ]
  },
  {
   "cell_type": "code",
   "execution_count": null,
   "metadata": {},
   "outputs": [],
   "source": [
    "fig = px.pie(suicide, values='suicides_no', names='generation')\n",
    "\n",
    "fig.update_layout(\n",
    "                   title=dict(text=\"Suicide Data\", x=0.44, y=0.95, font_size=20),\n",
    "                   width=800,\n",
    "                   height=650\n",
    "                 )\n",
    "\n",
    "fig.update_traces(textposition='outside', textinfo='percent+label')\n",
    "fig.show()"
   ]
  },
  {
   "cell_type": "markdown",
   "metadata": {},
   "source": [
    "# Area Plot"
   ]
  },
  {
   "cell_type": "code",
   "execution_count": null,
   "metadata": {},
   "outputs": [],
   "source": [
    "# Simple Area plot\n",
    "x = np.arange(1, 31)\n",
    "y = np.random.normal(10, 11, size=30)\n",
    "y = np.square(y)"
   ]
  },
  {
   "cell_type": "code",
   "execution_count": null,
   "metadata": {},
   "outputs": [],
   "source": [
    "fig = go.Figure()\n",
    "fig.add_trace(go.Scatter(x=x, y=y, fill='tozeroy')) # fill down to xaxis\n",
    "fig.show()"
   ]
  },
  {
   "cell_type": "code",
   "execution_count": null,
   "metadata": {},
   "outputs": [],
   "source": [
    "#Changing color of area plot using marker color\n",
    "fig = go.Figure()\n",
    "fig.add_trace(go.Scatter(x=x, y=y, fill='tozeroy',\n",
    "                         marker=dict(color='gold')))\n",
    "fig.show()"
   ]
  },
  {
   "cell_type": "code",
   "execution_count": null,
   "metadata": {},
   "outputs": [],
   "source": [
    "x=np.arange(1, 7)\n",
    "y1 =  np.array([1, 5, 9, 3, 17, 1])\n",
    "y2 = np.array([2, 6, 12, 4, 19, 2])\n",
    "y3 = np.array([3, 7, 16, 5, 22, 1])\n",
    "y4 = np.array([4, 8, 18, 6, 25, 2])\n",
    "\n",
    "fig = go.Figure()\n",
    "fig.add_trace(go.Scatter(x=x, y=y1, fill='tozeroy', marker=dict(color='#00b159'))) # fill down to xaxis\n",
    "fig.add_trace(go.Scatter(x=x, y=y2, fill='tonexty', marker=dict(color='#ffc425'))) # fill to trace0 y\n",
    "fig.add_trace(go.Scatter(x=x, y=y3, fill='tonexty', marker=dict(color='#3498DB'))) # fill to trace1 y\n",
    "fig.add_trace(go.Scatter(x=x, y=y4, fill='tonexty', marker=dict(color='#ff3b30'))) # fill to trace2 y\n",
    "fig.update_layout(width=980, height=600)\n",
    "fig.show()"
   ]
  },
  {
   "cell_type": "code",
   "execution_count": null,
   "metadata": {},
   "outputs": [],
   "source": [
    "# Area Chart with interioir filling using  fill='tonexty'\n",
    "x=['A', 'B', 'C', 'D', 'E']\n",
    "y1=np.array([30, 10, 40, 20, 60])\n",
    "y2=np.array([10, 20, 10, 20, 10])\n",
    "\n",
    "fig = go.Figure()\n",
    "fig.add_trace(go.Scatter(\n",
    "                          x=x,\n",
    "                          y=y1, \n",
    "                          marker=dict(color='#00b159'),\n",
    "                          fill=None\n",
    "                        )\n",
    "             )\n",
    "\n",
    "fig.add_trace(go.Scatter(\n",
    "                          x=x,\n",
    "                          y=y2, \n",
    "                          fill='tonexty', # fill to trace0 y\n",
    "                          marker=dict(color='#ffc425'),\n",
    "                        )\n",
    "             )\n",
    "\n",
    "fig.update_layout(width=980, height=600)\n",
    "fig.show()"
   ]
  },
  {
   "cell_type": "markdown",
   "metadata": {},
   "source": [
    "# Sunburst Chart"
   ]
  },
  {
   "cell_type": "code",
   "execution_count": null,
   "metadata": {},
   "outputs": [],
   "source": [
    "insurance.head()"
   ]
  },
  {
   "cell_type": "code",
   "execution_count": null,
   "metadata": {},
   "outputs": [],
   "source": [
    "insurance[insurance.region == 'southwest'].charges.sum()"
   ]
  },
  {
   "cell_type": "code",
   "execution_count": null,
   "metadata": {},
   "outputs": [],
   "source": [
    "# Simple Sunburst Chart\n",
    "fig = px.sunburst(insurance, path=['region', 'smoker', 'sex'], values='charges')\n",
    "fig.update_layout(height=800, width=800)\n",
    "fig.show()"
   ]
  },
  {
   "cell_type": "code",
   "execution_count": null,
   "metadata": {},
   "outputs": [],
   "source": [
    "# Using inbuilt color scales in Sunburst Chart\n",
    "fig = px.sunburst(\n",
    "                   insurance,\n",
    "                   path=['region', 'smoker', 'sex'], \n",
    "                   values='charges',\n",
    "                   color='charges', \n",
    "                   color_continuous_scale=px.colors.sequential.Aggrnyl\n",
    "                 )\n",
    "\n",
    "fig.update_layout(height=800, width=800)\n",
    "fig.show()"
   ]
  },
  {
   "cell_type": "code",
   "execution_count": null,
   "metadata": {},
   "outputs": [],
   "source": [
    "# Using color scales in Sunburst Chart\n",
    "fig = px.sunburst(\n",
    "                   insurance, \n",
    "                   path=['region', 'smoker', 'sex'], \n",
    "                   values='charges', \n",
    "                   color= 'charges', \n",
    "                   color_continuous_scale=[\"#8BC34A\", \"#FF6F00\"] #Explicitly Constructing a Color Sequence\n",
    "                  )\n",
    "\n",
    "fig.update_layout(height=800, width=800)\n",
    "fig.show()"
   ]
  },
  {
   "cell_type": "code",
   "execution_count": null,
   "metadata": {},
   "outputs": [],
   "source": [
    "suicide.head()"
   ]
  },
  {
   "cell_type": "code",
   "execution_count": null,
   "metadata": {},
   "outputs": [],
   "source": [
    "fig = px.sunburst(suicide, path=['sex', 'age', 'generation'], values='suicides_no', color='suicides_no')\n",
    "fig.update_layout(height=900, width=900)\n",
    "fig.show()"
   ]
  },
  {
   "cell_type": "markdown",
   "metadata": {},
   "source": [
    "# Tables & Figure Factory Tables"
   ]
  },
  {
   "cell_type": "code",
   "execution_count": null,
   "metadata": {},
   "outputs": [],
   "source": [
    "col1 = ['Strongly Agree' , 'Agree' , 'Neutral' , 'Disagree' , 'Strongly Disagree',]\n",
    "index1 = ['Python' , 'Java' , 'Julia' , 'C++' , 'C']\n",
    "review = np.array([[428, 111, 70, 101, 80],\n",
    "                   [370, 222, 80, 104, 70],\n",
    "                   [298, 121, 90, 102, 60],\n",
    "                   [310, 141, 100, 109, 56],\n",
    "                   [400, 121, 110, 107, 78]]\n",
    "                 )\n",
    "\n",
    "rating = pd.DataFrame(data=review,index=index1,columns=col1)\n",
    "\n",
    "rating['Total'] = rating.sum(axis=1)\n",
    "\n",
    "rating = rating.assign(**{'Strongly Agree (%)': np.nan, \n",
    "             'Agree (%)' : np.nan, \n",
    "             'Neutral (%)': np.nan ,\n",
    "             'Disagree (%)' : np.nan, \n",
    "             'Strongly Disagree (%)': np.nan,\n",
    "            })\n",
    "for i in range(0,len(rating['Strongly Agree'])):\n",
    "    k=0\n",
    "    for j in range(int(len(rating.iloc[0])/2)+1 , len(rating.iloc[0])):\n",
    "        rating.iat[i,j] =  np.round((rating.iat[i,k] / rating.iat[i,5])*100 ,decimals=2)\n",
    "        k=k+1\n",
    "rating"
   ]
  },
  {
   "cell_type": "code",
   "execution_count": null,
   "metadata": {},
   "outputs": [],
   "source": [
    "rating.columns"
   ]
  },
  {
   "cell_type": "code",
   "execution_count": null,
   "metadata": {},
   "outputs": [],
   "source": [
    "#Basic table in Plotly\n",
    "fig = go.Figure(data=[go.Table(\n",
    "                                 header=dict(\n",
    "                                              values=list(rating.columns),\n",
    "                                             ),\n",
    "                                 cells=dict(values=[\n",
    "                                                     rating['Strongly Agree'] , \n",
    "                                                     rating['Agree'] , \n",
    "                                                     rating['Neutral'] ,\n",
    "                                                     rating['Disagree'] , \n",
    "                                                     rating['Strongly Disagree'],\n",
    "                                                     rating['Total'],\n",
    "                                                     rating['Strongly Agree (%)'],\n",
    "                                                     rating['Agree (%)'],\n",
    "                                                     rating['Neutral (%)'],\n",
    "                                                     rating['Disagree (%)'],\n",
    "                                                     rating['Strongly Disagree (%)']\n",
    "                                                    ],\n",
    "                                             )\n",
    "                                    )\n",
    "                        ]\n",
    "               )\n",
    "\n",
    "fig.show()"
   ]
  },
  {
   "cell_type": "code",
   "execution_count": null,
   "metadata": {},
   "outputs": [],
   "source": [
    "# Styled Table in Plotly\n",
    "fig = go.Figure(data=[go.Table(\n",
    "                                 header=dict(\n",
    "                                              values=list(rating.columns),\n",
    "                                              fill_color='paleturquoise',\n",
    "                                              align='left'\n",
    "                                             ),\n",
    "                                 cells=dict(values=[\n",
    "                                                     rating['Strongly Agree'] , \n",
    "                                                     rating['Agree'] , \n",
    "                                                     rating['Neutral'] ,\n",
    "                                                     rating['Disagree'] , \n",
    "                                                     rating['Strongly Disagree'],\n",
    "                                                     rating['Total'],\n",
    "                                                     rating['Strongly Agree (%)'],\n",
    "                                                     rating['Agree (%)'],\n",
    "                                                     rating['Neutral (%)'],\n",
    "                                                     rating['Disagree (%)'],\n",
    "                                                     rating['Strongly Disagree (%)']\n",
    "                                                    ],\n",
    "                                fill_color='lavender',\n",
    "                                align='center'))\n",
    "                     ]\n",
    "               )\n",
    "fig.update_layout(width=990, height=350)\n",
    "fig.show()"
   ]
  },
  {
   "cell_type": "code",
   "execution_count": null,
   "metadata": {},
   "outputs": [],
   "source": [
    "# Styled Table in Plotly\n",
    "fig = go.Figure(data=[go.Table(\n",
    "                                 header=dict(\n",
    "                                              values=list(insurance.columns), # Header values\n",
    "                                              line_color='white', # Line Color of header \n",
    "                                              fill_color='blue', # background color of header\n",
    "                                              align='center', # Align header at center\n",
    "                                              height=40, # Height of Header\n",
    "                                              font=dict(color='white', size=18), # Font size & color of header text\n",
    "                                             ),\n",
    "                                 cells=dict(values=[\n",
    "                                                     insurance.age , # Column values\n",
    "                                                     insurance.sex, \n",
    "                                                     insurance.bmi,\n",
    "                                                     insurance.children, \n",
    "                                                     insurance.smoker,\n",
    "                                                     insurance.region,\n",
    "                                                     insurance.charges\n",
    "                                                    ],\n",
    "                                            line_color='darkgrey', # Line color of the cell\n",
    "                                            fill_color='lightcyan', # Color of the cell\n",
    "                                            align='left'  # Align text to left in cell\n",
    "                                           )\n",
    "                               )\n",
    "                     ]\n",
    "               )\n",
    "\n",
    "fig.show()"
   ]
  },
  {
   "cell_type": "code",
   "execution_count": null,
   "metadata": {},
   "outputs": [],
   "source": [
    "# Create simple table using create_table function\n",
    "fig = ff.create_table(insurance.tail(5))\n",
    "fig.show()"
   ]
  },
  {
   "cell_type": "code",
   "execution_count": null,
   "metadata": {},
   "outputs": [],
   "source": [
    "# Create simple table using create_table function\n",
    "fig = ff.create_table(insurance.tail(5), height_constant=50)\n",
    "fig.show()"
   ]
  },
  {
   "cell_type": "code",
   "execution_count": null,
   "metadata": {},
   "outputs": [],
   "source": [
    "# Using color scales in table\n",
    "colorscale = [[0, 'red'], [.5, '#DCE775'], [1, '#C0CA33']]\n",
    "fig = ff.create_table(insurance.tail(5), height_constant=50,\n",
    "                      colorscale=colorscale)\n",
    "fig.show()"
   ]
  },
  {
   "cell_type": "code",
   "execution_count": null,
   "metadata": {},
   "outputs": [],
   "source": [
    "# Changing font color\n",
    "font=['white', '#212121' , 'red']\n",
    "fig = ff.create_table(insurance.tail(5), height_constant=50,\n",
    "                      colorscale=colorscale, font_colors=font)\n",
    "fig.show()"
   ]
  },
  {
   "cell_type": "code",
   "execution_count": null,
   "metadata": {},
   "outputs": [],
   "source": [
    "# Changing font size using \"fig.layout.annotations[i].font.size\"\n",
    "fig = ff.create_table(insurance.tail(5), height_constant=50,\n",
    "                      colorscale=colorscale, font_colors=font)\n",
    "for i in range(len(fig.layout.annotations)):\n",
    "    fig.layout.annotations[i].font.size = 12\n",
    "fig.show()"
   ]
  },
  {
   "cell_type": "code",
   "execution_count": null,
   "metadata": {},
   "outputs": [],
   "source": [
    "canada[['India','Pakistan','China']].head()"
   ]
  },
  {
   "cell_type": "markdown",
   "metadata": {},
   "source": [
    "# Bubble Chart"
   ]
  },
  {
   "cell_type": "code",
   "execution_count": null,
   "metadata": {},
   "outputs": [],
   "source": [
    "#Simple Bubble Chart\n",
    "x = np.arange(1, 10)\n",
    "y = np.random.randint(1, 100, 9)\n",
    "\n",
    "data = go.Scatter(\n",
    "                  x=x,\n",
    "                  y=y,\n",
    "                  mode='markers',\n",
    "                  marker=dict(size=y),\n",
    "                 )\n",
    "\n",
    "fig = go.Figure(data=data)\n",
    "fig.show()"
   ]
  },
  {
   "cell_type": "code",
   "execution_count": null,
   "metadata": {},
   "outputs": [],
   "source": [
    "op = np.random.uniform(0.2, 1, 9)\n",
    "op"
   ]
  },
  {
   "cell_type": "code",
   "execution_count": null,
   "metadata": {},
   "outputs": [],
   "source": [
    "data = go.Scatter(\n",
    "                  x=x,\n",
    "                  y=y,\n",
    "                  mode='markers',\n",
    "                  marker=dict(size=y, opacity=op)\n",
    "                  )\n",
    "\n",
    "fig = go.Figure(data=data)\n",
    "fig.show()"
   ]
  },
  {
   "cell_type": "code",
   "execution_count": null,
   "metadata": {},
   "outputs": [],
   "source": [
    "hexval = [hex(x) for x in np.random.randint(0, 16777215, 10)]\n",
    "hexval = ['#' + hexval[i][2:] for i in range(0, 10)] #Generate Hex color list\n",
    "\n",
    "data = go.Scatter(\n",
    "                  x=x,\n",
    "                  y=y,\n",
    "                  mode='markers',\n",
    "                  marker=dict(size=y, color=hexval)\n",
    "                  )\n",
    "\n",
    "fig = go.Figure(data=data)\n",
    "fig.show()"
   ]
  },
  {
   "cell_type": "code",
   "execution_count": null,
   "metadata": {},
   "outputs": [],
   "source": [
    "# Bubble Chart using plotly.express\n",
    "fig = px.scatter(\n",
    "                 suicide.query(\"year==1987\"), \n",
    "                 x=\"population\", \n",
    "                 y=\"suicides_no\",\n",
    "                 size=\"suicides_no\", \n",
    "                 color=\"age\",\n",
    "                 hover_name=\"country\",\n",
    "                 size_max=60\n",
    "                )\n",
    "fig.show()"
   ]
  },
  {
   "cell_type": "markdown",
   "metadata": {},
   "source": [
    "# 3D"
   ]
  },
  {
   "cell_type": "code",
   "execution_count": null,
   "metadata": {},
   "outputs": [],
   "source": [
    "fig = px.scatter_3d(suicide[:1000],\n",
    "                    x=\"population\", \n",
    "                    y=\"suicides_no\",\n",
    "                    z=\"age\",\n",
    "                    color='country')\n",
    "fig.show()"
   ]
  },
  {
   "cell_type": "code",
   "execution_count": null,
   "metadata": {},
   "outputs": [],
   "source": []
  },
  {
   "cell_type": "code",
   "execution_count": null,
   "metadata": {},
   "outputs": [],
   "source": []
  }
 ],
 "metadata": {
  "kernelspec": {
   "display_name": "Python 3 (ipykernel)",
   "language": "python",
   "name": "python3"
  },
  "language_info": {
   "codemirror_mode": {
    "name": "ipython",
    "version": 3
   },
   "file_extension": ".py",
   "mimetype": "text/x-python",
   "name": "python",
   "nbconvert_exporter": "python",
   "pygments_lexer": "ipython3",
   "version": "3.9.6"
  }
 },
 "nbformat": 4,
 "nbformat_minor": 4
}
